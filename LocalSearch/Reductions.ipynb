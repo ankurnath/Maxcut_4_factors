{
 "cells": [
  {
   "cell_type": "code",
   "execution_count": 54,
   "id": "85b6ee0a",
   "metadata": {},
   "outputs": [],
   "source": [
    "import numpy as np\n",
    "# import subprocess"
   ]
  },
  {
   "cell_type": "code",
   "execution_count": 55,
   "id": "1ce9f90d",
   "metadata": {},
   "outputs": [],
   "source": [
    "# class CNF:\n",
    "#     def __init__(self, n_variables, clauses, occur_list, comments):\n",
    "#         self.n_variables = n_variables\n",
    "#         self.clauses = clauses\n",
    "#         self.occur_list = occur_list\n",
    "#         self.comments = comments\n",
    "\n",
    "#     def __str__(self):\n",
    "#         return f\"\"\"Number of variables: {self.n_variables}\n",
    "# Clauses: {str(self.clauses)}\n",
    "# Comments: {str(self.comments)}\"\"\"\n",
    "\n",
    "#     def to_file(self, filename):\n",
    "#         with open(filename, 'w') as f:\n",
    "#             f.write(self.to_string())\n",
    "\n",
    "#     def to_string(self):\n",
    "#         string = f'p cnf {self.n_variables} {len(self.clauses)}\\n'\n",
    "#         for clause in self.clauses:\n",
    "#             string += ' '.join(str(literal) for literal in clause) + ' 0\\n'\n",
    "#         return string\n",
    "\n",
    "#     @classmethod\n",
    "#     def from_file(cls, filename):\n",
    "#         with open(filename) as f:\n",
    "#             return cls.from_string(f.read())\n",
    "\n",
    "#     @classmethod\n",
    "#     def from_string(cls, string):\n",
    "#         n_variables, clauses, occur_list, comments = CNF.parse_dimacs(string)\n",
    "#         return cls(n_variables, clauses, occur_list, comments)\n",
    "\n",
    "#     @staticmethod\n",
    "#     def parse_dimacs(string):\n",
    "#         n_variables = 0\n",
    "#         clauses = []\n",
    "#         comments = []\n",
    "#         for line in string.splitlines():\n",
    "#             line = line.strip()\n",
    "#             if not line:\n",
    "#                 continue\n",
    "#             elif line[0] == 'c':\n",
    "#                 comments.append(line)\n",
    "#             elif line.startswith('p cnf'):\n",
    "#                 tokens = line.split()\n",
    "#                 n_variables, n_remaining_clauses = int(tokens[2]), int(tokens[3])\n",
    "#                 occur_list = [[] for _ in range(n_variables * 2 + 1)]\n",
    "#             elif n_remaining_clauses > 0:\n",
    "#                 clause = []\n",
    "#                 clause_index = len(clauses)\n",
    "#                 for literal in line.split()[:-1]:\n",
    "#                     literal = int(literal)\n",
    "#                     clause.append(literal)\n",
    "#                     occur_list[literal].append(clause_index)\n",
    "#                 clauses.append(clause)\n",
    "#                 n_remaining_clauses -= 1\n",
    "#             else:\n",
    "#                 break\n",
    "#         return n_variables, clauses, occur_list, comments"
   ]
  },
  {
   "cell_type": "code",
   "execution_count": 56,
   "id": "43aa0445",
   "metadata": {},
   "outputs": [],
   "source": [
    "\n",
    "# from pysat.solvers import Solver\n",
    "# def create_sat_problem(call_list, call_pysat=True):\n",
    "\n",
    "#     # print(call_list,call_minsat)\n",
    "#     if not call_pysat:\n",
    "#         subprocess.call(call_list)\n",
    "\n",
    "#         # os.rename('tmp.cnf', filename)\n",
    "#         f = CNF.from_file(\"tmp.cnf\")\n",
    "#         os.remove(\"tmp.cnf\")\n",
    "#         # print(\"Not calling minsat\")\n",
    "#         return f\n",
    "#     while True:\n",
    "#         subprocess.call(call_list)\n",
    "#         f = CNF.from_file(\"tmp.cnf\")\n",
    "#         s = Solver(bootstrap_with=f.clauses)\n",
    "#         if s.solve():\n",
    "#             print(s.solve)\n",
    "#             break\n",
    "            \n",
    "#         os.remove('tmp.cnf')\n",
    "        \n",
    "\n",
    "        \n",
    "# class MaxsatGenerator(object):\n",
    "#     def __init__(self,call_pysat):\n",
    "#         self.call_pysat=call_pysat\n",
    "#         self.call_list=None\n",
    "    \n",
    "#     def get(self):\n",
    "#         return create_sat_problem(self.call_list, self.call_pysat)     \n",
    "        \n",
    "# class RandomksatGenerator(MaxsatGenerator):\n",
    "\n",
    "#     def __init__(self,k,n,m,call_pysat=True):\n",
    "#         \"\"\"\n",
    "        \n",
    "#         n number of variables\n",
    "#         m number of clauses\n",
    "#         k number literals per clause\n",
    "        \n",
    "#         \"\"\"\n",
    "    \n",
    "#         super().__init__(call_pysat=call_pysat)\n",
    "#         self.call_list=['cnfgen', '-q', '-o', 'tmp.cnf', 'randkcnf', str(k), str(n), str(m)]\n",
    "        \n"
   ]
  },
  {
   "cell_type": "code",
   "execution_count": 10,
   "id": "58b757a6",
   "metadata": {},
   "outputs": [],
   "source": [
    "# generator = RandomksatGenerator(k=3, n=20, m=91, call_pysat=True)"
   ]
  },
  {
   "cell_type": "code",
   "execution_count": 57,
   "id": "998ba7f3",
   "metadata": {},
   "outputs": [],
   "source": [
    "# generator.get()"
   ]
  },
  {
   "cell_type": "code",
   "execution_count": 43,
   "id": "f62dac48",
   "metadata": {},
   "outputs": [],
   "source": [
    "gg=RandomKCNF(k=3, n=20, m=91, seed=None, planted_assignments=None)"
   ]
  },
  {
   "cell_type": "code",
   "execution_count": 32,
   "id": "522f95ac",
   "metadata": {},
   "outputs": [
    {
     "name": "stdout",
     "output_type": "stream",
     "text": [
      "True\n"
     ]
    }
   ],
   "source": [
    "s = Solver(bootstrap_with=gg.clauses())\n",
    "if s.solve():\n",
    "    print(s.solve())"
   ]
  },
  {
   "cell_type": "code",
   "execution_count": 49,
   "id": "2a6f14c1",
   "metadata": {},
   "outputs": [
    {
     "name": "stdout",
     "output_type": "stream",
     "text": [
      "Not statisfiable \n"
     ]
    }
   ],
   "source": [
    "from cnfgen import RandomKCNF\n",
    "\n",
    "\n",
    "formula=RandomKCNF(k=3, n=20, m=91, seed=None, planted_assignments=None)\n",
    "\n",
    "s = Solver(bootstrap_with=formula.clauses())\n",
    "if s.solve():\n",
    "    print(s.solve())\n",
    "else:\n",
    "    print('Not statisfiable')\n",
    "\n"
   ]
  },
  {
   "cell_type": "code",
   "execution_count": null,
   "id": "17fdb3e0",
   "metadata": {},
   "outputs": [],
   "source": []
  },
  {
   "cell_type": "code",
   "execution_count": 4,
   "id": "b2ac10aa",
   "metadata": {},
   "outputs": [],
   "source": [
    "# from pysat.solvers import Solver\n",
    "# s = Solver(bootstrap_with=f.clauses)\n",
    "# s.solve()\n",
    "\n",
    "# solution=s.get_model()"
   ]
  },
  {
   "cell_type": "code",
   "execution_count": 5,
   "id": "38e2467d",
   "metadata": {},
   "outputs": [],
   "source": [
    "# solution"
   ]
  },
  {
   "cell_type": "code",
   "execution_count": 6,
   "id": "93985ca0",
   "metadata": {},
   "outputs": [],
   "source": [
    "# def nae_sat_satisﬁable(clauses,solution):\n",
    "    \n",
    "#     for clause in clauses:\n",
    "#         true_lit_count=0\n",
    "#         for literal in clause:\n",
    "#             if literal in solution:\n",
    "#                 true_lit_count+=1\n",
    "#         if true_lit_count==len(clause) or true_lit_count==0:\n",
    "#             raise ValueError('unsatisﬁable')"
   ]
  },
  {
   "cell_type": "code",
   "execution_count": 66,
   "id": "b9c5a836",
   "metadata": {},
   "outputs": [],
   "source": [
    "def reduce_to_nae_3_sat(clauses,n_variables):\n",
    "    nae_4_sat_clauses = []\n",
    "\n",
    "    # Create nae-4-sat clauses\n",
    "    for clause in clauses:\n",
    "        nae_4_sat_clauses.append(clause + [(n_variables + 1)])\n",
    "\n",
    "\n",
    "\n",
    "    # Reduce nae-4-sat to nae-3-sat\n",
    "    nae_3_sat_clauses = []\n",
    "    new_variable = n_variables + 2\n",
    "\n",
    "    for clause in nae_4_sat_clauses:\n",
    "        nae_3_sat_clauses.append(clause[:2] + [new_variable])\n",
    "        nae_3_sat_clauses.append([-new_variable] + clause[2:])\n",
    "\n",
    "        new_variable += 1\n",
    "\n",
    "    return nae_3_sat_clauses\n",
    "\n",
    "\n"
   ]
  },
  {
   "cell_type": "code",
   "execution_count": 67,
   "id": "baa8bee1",
   "metadata": {},
   "outputs": [],
   "source": [
    "# # 3- sat reduces in polynomial time to nae 4- sat .\n",
    "\n",
    "# nae_4_sat_clauses=[]\n",
    "# for clause in f.clauses:\n",
    "#     nae_4_sat_clauses.append(clause+[(f.n_variables+1)])\n",
    "    \n",
    "\n",
    "# nae_4_sat_solution=solution+[-(f.n_variables+1)]\n",
    "# nae_sat_satisﬁable(nae_4_sat_clauses,nae_4_sat_solution)\n",
    "# # nae 4- sat reduces in polynomial time to nae 3- sat .\n",
    "# nae_3_sat_clauses=[]\n",
    "# nae_3_sat_solution=nae_4_sat_solution.copy()\n",
    "# new_variable=(f.n_variables+2)\n",
    "# for clause in nae_4_sat_clauses:\n",
    "#     nae_3_sat_clauses.append(clause[:2]+[new_variable])\n",
    "#     nae_3_sat_clauses.append([-new_variable]+clause[2:])\n",
    "    \n",
    "#     # try setting new_variable true\n",
    "#     true_lit_count=0\n",
    "#     for literal in clause[:2]:\n",
    "#         if literal in nae_4_sat_solution:\n",
    "#             true_lit_count+=1\n",
    "#     if true_lit_count==0:\n",
    "#         nae_3_sat_solution.append(new_variable)\n",
    "#     else:\n",
    "#         nae_3_sat_solution.append(-new_variable)\n",
    "        \n",
    "    \n",
    "#     new_variable+=1\n",
    "    \n",
    "    "
   ]
  },
  {
   "cell_type": "code",
   "execution_count": 68,
   "id": "a1c83856",
   "metadata": {},
   "outputs": [],
   "source": [
    "# nae_sat_satisﬁable(nae_3_sat_clauses,nae_3_sat_solution)"
   ]
  },
  {
   "cell_type": "code",
   "execution_count": 69,
   "id": "476bc511",
   "metadata": {},
   "outputs": [],
   "source": [
    "#nae 3- sat reduces in polynomial time to max cut ."
   ]
  },
  {
   "cell_type": "code",
   "execution_count": null,
   "id": "89c7e9f7",
   "metadata": {},
   "outputs": [],
   "source": []
  },
  {
   "cell_type": "code",
   "execution_count": 70,
   "id": "42e9b4a1",
   "metadata": {},
   "outputs": [],
   "source": [
    "import numpy as np\n",
    "\n",
    "def create_adj_matrix(nae_3_sat_clauses):\n",
    "    variables = set([])\n",
    "\n",
    "    # Extract variables from nae-3-sat clauses\n",
    "    for clause in nae_3_sat_clauses:\n",
    "        for literal in clause:\n",
    "            variables.add(abs(literal))\n",
    "\n",
    "    n = len(variables)  # the number of variables\n",
    "    m = len(nae_3_sat_clauses)  # the number of clauses in ϕ\n",
    "\n",
    "    adj_matrix = np.zeros((n * 2, n * 2), dtype=np.int16)\n",
    "\n",
    "    # Add weights to diagonal entries\n",
    "    for i in range(n):\n",
    "        adj_matrix[i, i + n] = 10 * m\n",
    "        adj_matrix[i + n, i] = 10 * m\n",
    "\n",
    "    # Populate adjacency matrix based on clauses\n",
    "    for clause in nae_3_sat_clauses:\n",
    "        nodes = []\n",
    "\n",
    "        for literal in clause:\n",
    "            if np.sign(literal) > 0:\n",
    "                node = literal - 1\n",
    "            else:\n",
    "                node = (abs(literal) - 1) + n\n",
    "\n",
    "            nodes.append(node)\n",
    "\n",
    "        adj_matrix[nodes[0], nodes[1]] += 1\n",
    "        adj_matrix[nodes[1], nodes[0]] += 1\n",
    "\n",
    "        adj_matrix[nodes[0], nodes[2]] += 1\n",
    "        adj_matrix[nodes[2], nodes[0]] += 1\n",
    "\n",
    "        adj_matrix[nodes[1], nodes[2]] += 1\n",
    "        adj_matrix[nodes[2], nodes[1]] += 1\n",
    "\n",
    "    return adj_matrix\n",
    "\n",
    "# Example usage:\n",
    "# adj_matrix_result = create_adj_matrix(nae_3_sat_clauses)\n",
    "# print(\"Adjacency Matrix:\")\n",
    "# print(adj_matrix_result)\n"
   ]
  },
  {
   "cell_type": "code",
   "execution_count": 71,
   "id": "7a15e071",
   "metadata": {},
   "outputs": [],
   "source": [
    "from cnfgen import RandomKCNF\n",
    "from pysat.solvers import Solver\n",
    "\n",
    "class RandomKSatGenerator:\n",
    "    \"\"\"\n",
    "    RandomKSatGenerator class for generating random k-SAT formulas.\n",
    "    \n",
    "    Attributes:\n",
    "    - k (int): The number of literals per clause.\n",
    "    - n (int): The number of variables.\n",
    "    - m (int): The number of clauses.\n",
    "    \"\"\"\n",
    "\n",
    "    def __init__(self, k, n, m):\n",
    "        \"\"\"\n",
    "        Initializes the RandomKSatGenerator.\n",
    "\n",
    "        Parameters:\n",
    "        - k (int): The number of literals per clause.\n",
    "        - n (int): The number of variables.\n",
    "        - m (int): The number of clauses.\n",
    "        \"\"\"\n",
    "        self.k = k\n",
    "        self.n = n\n",
    "        self.m = m\n",
    "        \n",
    "    def generate_formula(self):\n",
    "        \"\"\"\n",
    "        Generates a random k-SAT formula.\n",
    "\n",
    "        Returns:\n",
    "        RandomKCNF: The generated k-SAT formula.\n",
    "        \"\"\"\n",
    "        while True:\n",
    "            formula = RandomKCNF(k=self.k, n=self.n, m=self.m)\n",
    "            solver = Solver(bootstrap_with=formula.clauses())\n",
    "\n",
    "            if solver.solve():\n",
    "                return formula\n",
    "\n",
    "# Example usage:\n",
    "ksat_generator = RandomKSatGenerator(k=3, n=10, m=20)\n",
    "random_formula = ksat_generator.generate_formula()\n"
   ]
  },
  {
   "cell_type": "code",
   "execution_count": 75,
   "id": "c4521f16",
   "metadata": {},
   "outputs": [],
   "source": [
    "import os\n",
    "import numpy as np\n",
    "\n",
    "def generate_and_save_dataset(generator, size_of_dataset, k, n, m, set_type):\n",
    "    folder = f'{set_type}/{\"Uniform Random-3-SAT\"}'\n",
    "    \n",
    "    if not os.path.exists(folder):\n",
    "        # If not, create the folder\n",
    "        os.makedirs(folder)\n",
    "    \n",
    "    for i in range(size_of_dataset):\n",
    "        f = generator.generate_formula()\n",
    "        result = reduce_to_nae_3_sat(f.clauses(),n)\n",
    "\n",
    "        if result is not None:\n",
    "            nae_3_sat_clauses = result\n",
    "            adj_matrix = create_adj_matrix(nae_3_sat_clauses)\n",
    "\n",
    "            save_file_name = f'{set_type}_{k}SAT_n{n}_m{m}_graph_{i}.npy'\n",
    "            save_file_path = os.path.join(folder, save_file_name)\n",
    "\n",
    "            with open(save_file_path, 'wb') as file:\n",
    "                np.save(file, adj_matrix)\n",
    "\n",
    "# Example usage:\n",
    "size_of_train_dataset = 1000\n",
    "size_of_test_dataset = 50\n",
    "generator = RandomKSatGenerator(k=3, n=20, m=91)\n",
    "set_type = 'train'\n",
    "generate_and_save_dataset(generator, size_of_train_dataset, 3, 20, 91, set_type)\n",
    "set_type = 'test'\n",
    "generate_and_save_dataset(generator, size_of_test_dataset, 3, 20, 91, set_type)\n",
    "\n",
    "\n",
    "    "
   ]
  },
  {
   "cell_type": "code",
   "execution_count": 64,
   "id": "61a5d1c3",
   "metadata": {},
   "outputs": [
    {
     "ename": "AttributeError",
     "evalue": "'RandomksatGenerator' object has no attribute 'generate_formula'",
     "output_type": "error",
     "traceback": [
      "\u001b[1;31m---------------------------------------------------------------------------\u001b[0m",
      "\u001b[1;31mAttributeError\u001b[0m                            Traceback (most recent call last)",
      "Cell \u001b[1;32mIn[64], line 3\u001b[0m\n\u001b[0;32m      1\u001b[0m generator \u001b[38;5;241m=\u001b[39m RandomksatGenerator(k\u001b[38;5;241m=\u001b[39m\u001b[38;5;241m3\u001b[39m, n\u001b[38;5;241m=\u001b[39m\u001b[38;5;241m20\u001b[39m, m\u001b[38;5;241m=\u001b[39m\u001b[38;5;241m91\u001b[39m, call_pysat\u001b[38;5;241m=\u001b[39m\u001b[38;5;28;01mTrue\u001b[39;00m)\n\u001b[0;32m      2\u001b[0m set_type \u001b[38;5;241m=\u001b[39m \u001b[38;5;124m'\u001b[39m\u001b[38;5;124mtrain\u001b[39m\u001b[38;5;124m'\u001b[39m\n\u001b[1;32m----> 3\u001b[0m generate_and_save_dataset(generator, size_of_dataset\u001b[38;5;241m=\u001b[39m\u001b[38;5;241m10\u001b[39m, k\u001b[38;5;241m=\u001b[39m\u001b[38;5;241m3\u001b[39m, n\u001b[38;5;241m=\u001b[39m\u001b[38;5;241m20\u001b[39m, m\u001b[38;5;241m=\u001b[39m\u001b[38;5;241m91\u001b[39m, set_type\u001b[38;5;241m=\u001b[39m\u001b[38;5;124m'\u001b[39m\u001b[38;5;124mtraining\u001b[39m\u001b[38;5;124m'\u001b[39m)\n",
      "Cell \u001b[1;32mIn[63], line 8\u001b[0m, in \u001b[0;36mgenerate_and_save_dataset\u001b[1;34m(generator, size_of_dataset, k, n, m, set_type)\u001b[0m\n\u001b[0;32m      5\u001b[0m folder \u001b[38;5;241m=\u001b[39m \u001b[38;5;124mf\u001b[39m\u001b[38;5;124m'\u001b[39m\u001b[38;5;132;01m{\u001b[39;00mset_type\u001b[38;5;132;01m}\u001b[39;00m\u001b[38;5;124m/\u001b[39m\u001b[38;5;132;01m{\u001b[39;00m\u001b[38;5;124m\"\u001b[39m\u001b[38;5;124mUniform Random-3-SAT\u001b[39m\u001b[38;5;124m\"\u001b[39m\u001b[38;5;132;01m}\u001b[39;00m\u001b[38;5;124m'\u001b[39m\n\u001b[0;32m      7\u001b[0m \u001b[38;5;28;01mfor\u001b[39;00m i \u001b[38;5;129;01min\u001b[39;00m \u001b[38;5;28mrange\u001b[39m(size_of_dataset):\n\u001b[1;32m----> 8\u001b[0m     f \u001b[38;5;241m=\u001b[39m generator\u001b[38;5;241m.\u001b[39mgenerate_formula()\n\u001b[0;32m      9\u001b[0m     result \u001b[38;5;241m=\u001b[39m reduce_to_nae_3_sat(f\u001b[38;5;241m.\u001b[39mclauses())\n\u001b[0;32m     11\u001b[0m     \u001b[38;5;28;01mif\u001b[39;00m result \u001b[38;5;129;01mis\u001b[39;00m \u001b[38;5;129;01mnot\u001b[39;00m \u001b[38;5;28;01mNone\u001b[39;00m:\n",
      "\u001b[1;31mAttributeError\u001b[0m: 'RandomksatGenerator' object has no attribute 'generate_formula'"
     ]
    }
   ],
   "source": [
    "generator = RandomksatGenerator(k=3, n=20, m=91, call_pysat=True)\n",
    "set_type = 'train'\n",
    "generate_and_save_dataset(generator, size_of_dataset=10, k=3, n=20, m=91, set_type='training')"
   ]
  },
  {
   "cell_type": "code",
   "execution_count": 68,
   "id": "ea011011",
   "metadata": {},
   "outputs": [
    {
     "ename": "FileNotFoundError",
     "evalue": "[WinError 2] The system cannot find the file specified",
     "output_type": "error",
     "traceback": [
      "\u001b[1;31m---------------------------------------------------------------------------\u001b[0m",
      "\u001b[1;31mFileNotFoundError\u001b[0m                         Traceback (most recent call last)",
      "Cell \u001b[1;32mIn[68], line 1\u001b[0m\n\u001b[1;32m----> 1\u001b[0m generator\u001b[38;5;241m.\u001b[39mget()\n",
      "Cell \u001b[1;32mIn[58], line 31\u001b[0m, in \u001b[0;36mMaxsatGenerator.get\u001b[1;34m(self)\u001b[0m\n\u001b[0;32m     30\u001b[0m \u001b[38;5;28;01mdef\u001b[39;00m \u001b[38;5;21mget\u001b[39m(\u001b[38;5;28mself\u001b[39m):\n\u001b[1;32m---> 31\u001b[0m     \u001b[38;5;28;01mreturn\u001b[39;00m create_sat_problem(\u001b[38;5;28mself\u001b[39m\u001b[38;5;241m.\u001b[39mcall_list, \u001b[38;5;28mself\u001b[39m\u001b[38;5;241m.\u001b[39mcall_pysat)\n",
      "Cell \u001b[1;32mIn[58], line 14\u001b[0m, in \u001b[0;36mcreate_sat_problem\u001b[1;34m(call_list, call_pysat)\u001b[0m\n\u001b[0;32m     12\u001b[0m     \u001b[38;5;28;01mreturn\u001b[39;00m f\n\u001b[0;32m     13\u001b[0m \u001b[38;5;28;01mwhile\u001b[39;00m \u001b[38;5;28;01mTrue\u001b[39;00m:\n\u001b[1;32m---> 14\u001b[0m     subprocess\u001b[38;5;241m.\u001b[39mcall(call_list)\n\u001b[0;32m     15\u001b[0m     f \u001b[38;5;241m=\u001b[39m CNF\u001b[38;5;241m.\u001b[39mfrom_file(\u001b[38;5;124m\"\u001b[39m\u001b[38;5;124mtmp.cnf\u001b[39m\u001b[38;5;124m\"\u001b[39m)\n\u001b[0;32m     16\u001b[0m     s \u001b[38;5;241m=\u001b[39m Solver(bootstrap_with\u001b[38;5;241m=\u001b[39mf\u001b[38;5;241m.\u001b[39mclauses)\n",
      "File \u001b[1;32mE:\\Conda\\Lib\\subprocess.py:389\u001b[0m, in \u001b[0;36mcall\u001b[1;34m(timeout, *popenargs, **kwargs)\u001b[0m\n\u001b[0;32m    381\u001b[0m \u001b[38;5;28;01mdef\u001b[39;00m \u001b[38;5;21mcall\u001b[39m(\u001b[38;5;241m*\u001b[39mpopenargs, timeout\u001b[38;5;241m=\u001b[39m\u001b[38;5;28;01mNone\u001b[39;00m, \u001b[38;5;241m*\u001b[39m\u001b[38;5;241m*\u001b[39mkwargs):\n\u001b[0;32m    382\u001b[0m \u001b[38;5;250m    \u001b[39m\u001b[38;5;124;03m\"\"\"Run command with arguments.  Wait for command to complete or\u001b[39;00m\n\u001b[0;32m    383\u001b[0m \u001b[38;5;124;03m    timeout, then return the returncode attribute.\u001b[39;00m\n\u001b[0;32m    384\u001b[0m \n\u001b[1;32m   (...)\u001b[0m\n\u001b[0;32m    387\u001b[0m \u001b[38;5;124;03m    retcode = call([\"ls\", \"-l\"])\u001b[39;00m\n\u001b[0;32m    388\u001b[0m \u001b[38;5;124;03m    \"\"\"\u001b[39;00m\n\u001b[1;32m--> 389\u001b[0m     \u001b[38;5;28;01mwith\u001b[39;00m Popen(\u001b[38;5;241m*\u001b[39mpopenargs, \u001b[38;5;241m*\u001b[39m\u001b[38;5;241m*\u001b[39mkwargs) \u001b[38;5;28;01mas\u001b[39;00m p:\n\u001b[0;32m    390\u001b[0m         \u001b[38;5;28;01mtry\u001b[39;00m:\n\u001b[0;32m    391\u001b[0m             \u001b[38;5;28;01mreturn\u001b[39;00m p\u001b[38;5;241m.\u001b[39mwait(timeout\u001b[38;5;241m=\u001b[39mtimeout)\n",
      "File \u001b[1;32mE:\\Conda\\Lib\\subprocess.py:1026\u001b[0m, in \u001b[0;36mPopen.__init__\u001b[1;34m(self, args, bufsize, executable, stdin, stdout, stderr, preexec_fn, close_fds, shell, cwd, env, universal_newlines, startupinfo, creationflags, restore_signals, start_new_session, pass_fds, user, group, extra_groups, encoding, errors, text, umask, pipesize, process_group)\u001b[0m\n\u001b[0;32m   1022\u001b[0m         \u001b[38;5;28;01mif\u001b[39;00m \u001b[38;5;28mself\u001b[39m\u001b[38;5;241m.\u001b[39mtext_mode:\n\u001b[0;32m   1023\u001b[0m             \u001b[38;5;28mself\u001b[39m\u001b[38;5;241m.\u001b[39mstderr \u001b[38;5;241m=\u001b[39m io\u001b[38;5;241m.\u001b[39mTextIOWrapper(\u001b[38;5;28mself\u001b[39m\u001b[38;5;241m.\u001b[39mstderr,\n\u001b[0;32m   1024\u001b[0m                     encoding\u001b[38;5;241m=\u001b[39mencoding, errors\u001b[38;5;241m=\u001b[39merrors)\n\u001b[1;32m-> 1026\u001b[0m     \u001b[38;5;28mself\u001b[39m\u001b[38;5;241m.\u001b[39m_execute_child(args, executable, preexec_fn, close_fds,\n\u001b[0;32m   1027\u001b[0m                         pass_fds, cwd, env,\n\u001b[0;32m   1028\u001b[0m                         startupinfo, creationflags, shell,\n\u001b[0;32m   1029\u001b[0m                         p2cread, p2cwrite,\n\u001b[0;32m   1030\u001b[0m                         c2pread, c2pwrite,\n\u001b[0;32m   1031\u001b[0m                         errread, errwrite,\n\u001b[0;32m   1032\u001b[0m                         restore_signals,\n\u001b[0;32m   1033\u001b[0m                         gid, gids, uid, umask,\n\u001b[0;32m   1034\u001b[0m                         start_new_session, process_group)\n\u001b[0;32m   1035\u001b[0m \u001b[38;5;28;01mexcept\u001b[39;00m:\n\u001b[0;32m   1036\u001b[0m     \u001b[38;5;66;03m# Cleanup if the child failed starting.\u001b[39;00m\n\u001b[0;32m   1037\u001b[0m     \u001b[38;5;28;01mfor\u001b[39;00m f \u001b[38;5;129;01min\u001b[39;00m \u001b[38;5;28mfilter\u001b[39m(\u001b[38;5;28;01mNone\u001b[39;00m, (\u001b[38;5;28mself\u001b[39m\u001b[38;5;241m.\u001b[39mstdin, \u001b[38;5;28mself\u001b[39m\u001b[38;5;241m.\u001b[39mstdout, \u001b[38;5;28mself\u001b[39m\u001b[38;5;241m.\u001b[39mstderr)):\n",
      "File \u001b[1;32mE:\\Conda\\Lib\\subprocess.py:1538\u001b[0m, in \u001b[0;36mPopen._execute_child\u001b[1;34m(self, args, executable, preexec_fn, close_fds, pass_fds, cwd, env, startupinfo, creationflags, shell, p2cread, p2cwrite, c2pread, c2pwrite, errread, errwrite, unused_restore_signals, unused_gid, unused_gids, unused_uid, unused_umask, unused_start_new_session, unused_process_group)\u001b[0m\n\u001b[0;32m   1536\u001b[0m \u001b[38;5;66;03m# Start the process\u001b[39;00m\n\u001b[0;32m   1537\u001b[0m \u001b[38;5;28;01mtry\u001b[39;00m:\n\u001b[1;32m-> 1538\u001b[0m     hp, ht, pid, tid \u001b[38;5;241m=\u001b[39m _winapi\u001b[38;5;241m.\u001b[39mCreateProcess(executable, args,\n\u001b[0;32m   1539\u001b[0m                              \u001b[38;5;66;03m# no special security\u001b[39;00m\n\u001b[0;32m   1540\u001b[0m                              \u001b[38;5;28;01mNone\u001b[39;00m, \u001b[38;5;28;01mNone\u001b[39;00m,\n\u001b[0;32m   1541\u001b[0m                              \u001b[38;5;28mint\u001b[39m(\u001b[38;5;129;01mnot\u001b[39;00m close_fds),\n\u001b[0;32m   1542\u001b[0m                              creationflags,\n\u001b[0;32m   1543\u001b[0m                              env,\n\u001b[0;32m   1544\u001b[0m                              cwd,\n\u001b[0;32m   1545\u001b[0m                              startupinfo)\n\u001b[0;32m   1546\u001b[0m \u001b[38;5;28;01mfinally\u001b[39;00m:\n\u001b[0;32m   1547\u001b[0m     \u001b[38;5;66;03m# Child is launched. Close the parent's copy of those pipe\u001b[39;00m\n\u001b[0;32m   1548\u001b[0m     \u001b[38;5;66;03m# handles that only the child should have open.  You need\u001b[39;00m\n\u001b[1;32m   (...)\u001b[0m\n\u001b[0;32m   1551\u001b[0m     \u001b[38;5;66;03m# pipe will not close when the child process exits and the\u001b[39;00m\n\u001b[0;32m   1552\u001b[0m     \u001b[38;5;66;03m# ReadFile will hang.\u001b[39;00m\n\u001b[0;32m   1553\u001b[0m     \u001b[38;5;28mself\u001b[39m\u001b[38;5;241m.\u001b[39m_close_pipe_fds(p2cread, p2cwrite,\n\u001b[0;32m   1554\u001b[0m                          c2pread, c2pwrite,\n\u001b[0;32m   1555\u001b[0m                          errread, errwrite)\n",
      "\u001b[1;31mFileNotFoundError\u001b[0m: [WinError 2] The system cannot find the file specified"
     ]
    }
   ],
   "source": [
    "\n",
    "\n",
    "#train\n",
    "\n",
    "# size_of_train_dataset=1000\n",
    "# size_of_test_dataset=50\n",
    "\n",
    "# generator=RandomksatGenerator(k=3,n=20,m=91,call_pysat=True)\n",
    "# set_type='train'\n",
    "# folder = f'{set_type}/{\"Uniform Random-3-SAT\"}'\n",
    "# for i in range(size_of_train_dataset):\n",
    "#     f=generator.get()\n",
    "#     adj_matrix=create_adj_matrix(reduce_to_nae_3_sat(f))\n",
    "    \n",
    "    \n",
    "#     save_file_name = f'{set_type}_{k}SAT_n{n}_m{m}graph_{i}.npy'\n",
    "#     save_file_path=os.path.join(folder,save_file_name)\n",
    "    \n",
    "#     with open(save_file_path, 'wb') as f:\n",
    "#             np.save(f, graph)\n",
    "    \n",
    "    "
   ]
  },
  {
   "cell_type": "code",
   "execution_count": 39,
   "id": "c00d2b1b",
   "metadata": {},
   "outputs": [],
   "source": [
    "# variables=set([])\n",
    "\n",
    "# for clause in nae_3_sat_clauses:\n",
    "#     for literal in clause:\n",
    "#         variables.add(abs(literal))\n",
    "\n",
    "# n=len(variables) # the number of variables\n",
    "# m=len(nae_3_sat_clauses) #   the number of clauses in ϕ\n",
    "\n",
    "# adj_matrix=np.zeros((n*2,n*2),dtype=np.int16)\n",
    "\n",
    "# for i in range(n):\n",
    "#     adj_matrix[i,i+n]=10*m\n",
    "#     adj_matrix[i+n,i]=10*m\n",
    "\n",
    "\n",
    "# for clause in nae_3_sat_clauses:\n",
    "#     nodes=[]\n",
    "# #     print(clause)\n",
    "#     for literal in clause:\n",
    "# #         print(clause)\n",
    "#         if np.sign(literal)>0:\n",
    "#             node=literal-1\n",
    "#         else:\n",
    "#             node= (abs(literal)-1)+n\n",
    "        \n",
    "#         nodes.append(node)\n",
    "# #     print(nodes)\n",
    "# #     break\n",
    "    \n",
    "#     adj_matrix[nodes[0],nodes[1]]+=1\n",
    "#     adj_matrix[nodes[1],nodes[0]]+=1 \n",
    "    \n",
    "#     adj_matrix[nodes[0],nodes[2]]+=1\n",
    "#     adj_matrix[nodes[2],nodes[0]]+=1\n",
    "    \n",
    "#     adj_matrix[nodes[1],nodes[2]]+=1\n",
    "#     adj_matrix[nodes[2],nodes[1]]+=1\n",
    "    \n",
    "    \n",
    "            \n",
    "        \n",
    "        "
   ]
  },
  {
   "cell_type": "code",
   "execution_count": 14,
   "id": "8e913920",
   "metadata": {},
   "outputs": [
    {
     "data": {
      "text/plain": [
       "True"
      ]
     },
     "execution_count": 14,
     "metadata": {},
     "output_type": "execute_result"
    }
   ],
   "source": [
    "np.array_equal(adj_matrix,adj_matrix.T)"
   ]
  },
  {
   "cell_type": "code",
   "execution_count": 15,
   "id": "307ac6e7",
   "metadata": {},
   "outputs": [],
   "source": [
    "from pysat.formula import CNF as pysat_cnf\n",
    "# Hard formula generator"
   ]
  },
  {
   "cell_type": "code",
   "execution_count": 16,
   "id": "8de07f45",
   "metadata": {},
   "outputs": [],
   "source": [
    "# f1 = pysat_cnf(from_clauses=nae_3_sat_clauses)"
   ]
  },
  {
   "cell_type": "code",
   "execution_count": 17,
   "id": "8821e78f",
   "metadata": {},
   "outputs": [],
   "source": [
    "from pysat.solvers import Solver\n",
    "s = Solver(bootstrap_with=nae_3_sat_clauses)\n"
   ]
  },
  {
   "cell_type": "code",
   "execution_count": 18,
   "id": "d5a9e8e1",
   "metadata": {},
   "outputs": [],
   "source": [
    "# from pysat.solvers import Glucose3\n",
    "\n",
    "# def solve_sat_problem():\n",
    "#     # Create a solver instance\n",
    "#     solver = Glucose3()\n",
    "\n",
    "#     # Add clauses to the solver (example: (a OR b) AND (NOT a OR c))\n",
    "#     solver.add_clause([1])  # 1 represents variable 'a', 2 represents variable 'b'\n",
    "#     solver.add_clause([-1, 2])  # -1 represents NOT 'a', 3 represents variable 'c'\n",
    "\n",
    "#     # Solve the SAT problem\n",
    "#     result = solver.solve()\n",
    "\n",
    "#     if result:\n",
    "#         print(\"Satisfiable\")\n",
    "#         model = solver.get_model()\n",
    "#         print(\"Model:\", model)\n",
    "#     else:\n",
    "#         print(\"Unsatisfiable\")\n",
    "\n",
    "# if __name__ == \"__main__\":\n",
    "#     solve_sat_problem()\n"
   ]
  },
  {
   "cell_type": "code",
   "execution_count": 19,
   "id": "a39b78ce",
   "metadata": {},
   "outputs": [
    {
     "data": {
      "text/plain": [
       "True"
      ]
     },
     "execution_count": 19,
     "metadata": {},
     "output_type": "execute_result"
    }
   ],
   "source": [
    "s.solve()"
   ]
  },
  {
   "cell_type": "code",
   "execution_count": 20,
   "id": "af20fa80",
   "metadata": {},
   "outputs": [],
   "source": [
    "solution=set(s.get_model())"
   ]
  },
  {
   "cell_type": "code",
   "execution_count": 21,
   "id": "76ef13d6",
   "metadata": {},
   "outputs": [
    {
     "data": {
      "text/plain": [
       "112"
      ]
     },
     "execution_count": 21,
     "metadata": {},
     "output_type": "execute_result"
    }
   ],
   "source": [
    "len(solution)"
   ]
  },
  {
   "cell_type": "code",
   "execution_count": 22,
   "id": "c6b8b382",
   "metadata": {},
   "outputs": [],
   "source": [
    "spins=np.ones(adj_matrix.shape[0])"
   ]
  },
  {
   "cell_type": "code",
   "execution_count": 23,
   "id": "29519bbc",
   "metadata": {},
   "outputs": [
    {
     "data": {
      "text/plain": [
       "(224,)"
      ]
     },
     "execution_count": 23,
     "metadata": {},
     "output_type": "execute_result"
    }
   ],
   "source": [
    "spins.shape"
   ]
  },
  {
   "cell_type": "code",
   "execution_count": 24,
   "id": "8d765335",
   "metadata": {},
   "outputs": [],
   "source": [
    "for literal in nae_3_sat_solution:\n",
    "    if np.sign(literal)<0:\n",
    "        spins[abs(literal)-1+n]=-1\n",
    "    else:\n",
    "        spins[abs(literal)-1]=-1\n",
    "        "
   ]
  },
  {
   "cell_type": "code",
   "execution_count": 25,
   "id": "b40a30d0",
   "metadata": {},
   "outputs": [
    {
     "data": {
      "text/plain": [
       "0.0"
      ]
     },
     "execution_count": 25,
     "metadata": {},
     "output_type": "execute_result"
    }
   ],
   "source": [
    "np.sum(spins)"
   ]
  },
  {
   "cell_type": "code",
   "execution_count": 26,
   "id": "effb5c23",
   "metadata": {},
   "outputs": [
    {
     "name": "stdout",
     "output_type": "stream",
     "text": [
      "unsatisﬁable\n",
      "unsatisﬁable\n",
      "unsatisﬁable\n",
      "unsatisﬁable\n",
      "unsatisﬁable\n",
      "unsatisﬁable\n",
      "unsatisﬁable\n",
      "unsatisﬁable\n",
      "unsatisﬁable\n",
      "unsatisﬁable\n",
      "unsatisﬁable\n",
      "unsatisﬁable\n",
      "unsatisﬁable\n",
      "unsatisﬁable\n",
      "unsatisﬁable\n",
      "unsatisﬁable\n",
      "unsatisﬁable\n",
      "unsatisﬁable\n",
      "unsatisﬁable\n",
      "unsatisﬁable\n",
      "unsatisﬁable\n",
      "unsatisﬁable\n",
      "unsatisﬁable\n",
      "unsatisﬁable\n",
      "unsatisﬁable\n",
      "unsatisﬁable\n",
      "unsatisﬁable\n",
      "unsatisﬁable\n",
      "unsatisﬁable\n",
      "unsatisﬁable\n",
      "unsatisﬁable\n",
      "unsatisﬁable\n",
      "unsatisﬁable\n",
      "unsatisﬁable\n",
      "unsatisﬁable\n",
      "unsatisﬁable\n",
      "unsatisﬁable\n",
      "unsatisﬁable\n",
      "unsatisﬁable\n"
     ]
    }
   ],
   "source": [
    "for clause in nae_3_sat_clauses:\n",
    "# for clause in  f.clauses:   \n",
    "    true_lit_count=0\n",
    "    for literal in clause:\n",
    "        if literal in solution:\n",
    "            true_lit_count+=1\n",
    "#     print(true_lit_count)\n",
    "            \n",
    "    if true_lit_count==3:\n",
    "        print('unsatisﬁable')"
   ]
  },
  {
   "cell_type": "code",
   "execution_count": 37,
   "id": "9394d260",
   "metadata": {},
   "outputs": [
    {
     "data": {
      "text/plain": [
       "204204.0"
      ]
     },
     "execution_count": 37,
     "metadata": {},
     "output_type": "execute_result"
    }
   ],
   "source": [
    "np.sum(adj_matrix * (1 - np.outer(spins, spins)))/4"
   ]
  },
  {
   "cell_type": "code",
   "execution_count": 38,
   "id": "27b9c912",
   "metadata": {},
   "outputs": [],
   "source": [
    "cut_value=2*m*(5*n+1)"
   ]
  },
  {
   "cell_type": "code",
   "execution_count": 39,
   "id": "0c1c9dac",
   "metadata": {},
   "outputs": [
    {
     "data": {
      "text/plain": [
       "204204"
      ]
     },
     "execution_count": 39,
     "metadata": {},
     "output_type": "execute_result"
    }
   ],
   "source": [
    "cut_value"
   ]
  },
  {
   "cell_type": "code",
   "execution_count": null,
   "id": "f6f6a34a",
   "metadata": {},
   "outputs": [],
   "source": [
    "m"
   ]
  },
  {
   "cell_type": "code",
   "execution_count": null,
   "id": "9fbe56ef",
   "metadata": {},
   "outputs": [],
   "source": [
    "n*10*m+2*m"
   ]
  },
  {
   "cell_type": "code",
   "execution_count": null,
   "id": "a23eaefd",
   "metadata": {},
   "outputs": [],
   "source": [
    "2*m"
   ]
  },
  {
   "cell_type": "code",
   "execution_count": null,
   "id": "a8f677e6",
   "metadata": {},
   "outputs": [],
   "source": [
    "# # Reduction from SAT to 3SAT\n",
    "\n",
    "# SAT_3_clauses=[]\n",
    "\n",
    "# n=f.n_variables\n",
    "\n",
    "# z1=n+1\n",
    "# for clause in f.clauses:\n",
    "    \n",
    "#     if len(clause)==1:\n",
    "#         z2=z1+1\n",
    "        \n",
    "#         SAT_3_clauses.append([clause[0],z1,z2])\n",
    "#         SAT_3_clauses.append([clause[0],-z1,z2])\n",
    "#         SAT_3_clauses.append([clause[0],z1,-z2])\n",
    "#         SAT_3_clauses.append([clause[0],-z1,-z2])\n",
    "        \n",
    "#         z1=z2+1\n",
    "#     elif len(clause)==2:\n",
    "        \n",
    "        \n",
    "        \n",
    "#         SAT_3_clauses.append([clause[0],clause[1],z1])\n",
    "#         SAT_3_clauses.append([clause[0],clause[1],-z1])\n",
    "#         z1+=1\n",
    "        \n",
    "#     elif len(clause)==3:\n",
    "#         pass\n",
    "    \n",
    "#     else:\n",
    "#         SAT_3_clauses.append([clause[0],clause[1],z1])\n",
    "        \n",
    "#         idx=2\n",
    "#         for i in range(len(clause)-5):\n",
    "#             z2=z1+1\n",
    "#             SAT_3_clauses.append([clause[idx],-z1,z2])\n",
    "#             idx+=1\n",
    "#             z1+=1\n",
    "                                  \n",
    "#         SAT_3_clauses.append([clause[idx],clause[idx+1],-z2])\n",
    "                                  "
   ]
  }
 ],
 "metadata": {
  "kernelspec": {
   "display_name": "Python 3 (ipykernel)",
   "language": "python",
   "name": "python3"
  },
  "language_info": {
   "codemirror_mode": {
    "name": "ipython",
    "version": 3
   },
   "file_extension": ".py",
   "mimetype": "text/x-python",
   "name": "python",
   "nbconvert_exporter": "python",
   "pygments_lexer": "ipython3",
   "version": "3.11.5"
  }
 },
 "nbformat": 4,
 "nbformat_minor": 5
}
