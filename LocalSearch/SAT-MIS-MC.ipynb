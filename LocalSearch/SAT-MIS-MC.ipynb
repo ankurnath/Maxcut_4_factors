{
 "cells": [
  {
   "cell_type": "code",
   "execution_count": 1,
   "id": "fb606ee2",
   "metadata": {},
   "outputs": [],
   "source": [
    "from cnfgen import RandomKCNF\n",
    "import numpy as np\n",
    "from scipy.sparse import csr_matrix,save_npz,load_npz\n",
    "from collections import defaultdict\n",
    "import os"
   ]
  },
  {
   "cell_type": "code",
   "execution_count": 20,
   "id": "fb871d93",
   "metadata": {},
   "outputs": [],
   "source": [
    "def create_directed_edges(adj_matrix, edges):\n",
    "    for edge in edges:\n",
    "        i, j = edge\n",
    "        adj_matrix[i, j] += 1\n",
    "        adj_matrix[j, i] += 1\n",
    "def formula_to_sparse(formula):\n",
    "    # SAT-MIS\n",
    "    try: \n",
    "        clauses=formula.clauses()\n",
    "    except:\n",
    "        clauses=formula.clauses\n",
    "\n",
    "    m = len(clauses)\n",
    "    adj_matrix = np.zeros((3 * m, 3 * m))\n",
    "    literal_to_node = defaultdict(list)\n",
    "\n",
    "    i = 0\n",
    "\n",
    "    # Clause clusters\n",
    "    for clause in clauses:\n",
    "        create_directed_edges(adj_matrix, [(i, i + 1), (i + 1, i + 2), (i + 2, i)])\n",
    "\n",
    "        for literal in clause:\n",
    "            literal_to_node[literal].append(i)\n",
    "        i += 3\n",
    "\n",
    "    # Conflict links\n",
    "    for literal in literal_to_node:\n",
    "        if -literal in literal_to_node:\n",
    "            for node in literal_to_node[literal]:\n",
    "                for neighbour in literal_to_node[-literal]:\n",
    "                    adj_matrix[node, neighbour] = 1\n",
    "\n",
    "    # MIS-MC\n",
    "    N = adj_matrix.shape[0]\n",
    "    number_of_nodes = N + 1 + np.count_nonzero(adj_matrix)\n",
    "    adj_matrix_mc = np.zeros((number_of_nodes, number_of_nodes))\n",
    "    idx = N + 1\n",
    "\n",
    "    for i in range(adj_matrix.shape[0]):\n",
    "        for j in range(i):\n",
    "            if adj_matrix[i][j] > 0:\n",
    "                edges = [(N, i), (N, j), (N, idx), (N, idx + 1),\n",
    "                            (i, idx), (idx, idx + 1), (idx + 1, j)]\n",
    "                create_directed_edges(adj_matrix_mc, edges)\n",
    "                idx += 2\n",
    "    sparse_matrix = csr_matrix(adj_matrix_mc)\n",
    "    return sparse_matrix\n",
    "    "
   ]
  },
  {
   "cell_type": "code",
   "execution_count": 2,
   "id": "3e23d2e3-b5b9-4f32-9d72-3785709cd0ad",
   "metadata": {},
   "outputs": [],
   "source": [
    "def mk_dir(export_dir, quite=False):\n",
    "    if not os.path.exists(export_dir):\n",
    "            try:\n",
    "                os.makedirs(export_dir)\n",
    "                print('created dir: ', export_dir)\n",
    "            except OSError as exc: # Guard against race condition\n",
    "                 if exc.errno != exc.errno.EEXIST:\n",
    "                    raise\n",
    "            except Exception:\n",
    "                pass\n",
    "    else:\n",
    "        print('dir already exists: ', export_dir)"
   ]
  },
  {
   "cell_type": "code",
   "execution_count": 17,
   "id": "c951ed48",
   "metadata": {},
   "outputs": [],
   "source": [
    "def create_instance(k, n, m, number_of_instances, folder):\n",
    "    mk_dir(folder)\n",
    "    for instance_no in range(number_of_instances):\n",
    "        formula = RandomKCNF(k=k, n=n, m=m, seed=None, planted_assignments=None)\n",
    "        sparse_matrix=formula_to_sparse(formula)\n",
    "        save_npz(f'{folder}/k{k}_n{n}_m{m}_instance_{instance_no}', sparse_matrix)"
   ]
  },
  {
   "cell_type": "code",
   "execution_count": 5,
   "id": "653ff102",
   "metadata": {},
   "outputs": [
    {
     "name": "stdout",
     "output_type": "stream",
     "text": [
      "dir already exists:  data/training/Uniform Random-3-SAT/\n",
      "dir already exists:  data/validation/Uniform Random-3-SAT/\n",
      "dir already exists:  data/testing/Uniform Random-3-SAT/\n"
     ]
    }
   ],
   "source": [
    "create_instance(k=3, n=20, m=91, number_of_instances=4000, folder='data/training/Uniform Random-3-SAT/')\n",
    "create_instance(k=3, n=20, m=91, number_of_instances=50, folder='data/validation/Uniform Random-3-SAT/')\n",
    "# create_instance(k=3, n=20, m=91, number_of_instances=100, folder='data/testing/Uniform Random-3-SAT/')"
   ]
  },
  {
   "cell_type": "markdown",
   "id": "a34c6580",
   "metadata": {},
   "source": [
    "# SATLIB Dataset"
   ]
  },
  {
   "cell_type": "code",
   "execution_count": 18,
   "id": "6cb8df56",
   "metadata": {},
   "outputs": [],
   "source": [
    "class CNF:\n",
    "    def __init__(self, n_variables, clauses, occur_list, comments):\n",
    "        self.n_variables = n_variables\n",
    "        self.clauses = clauses\n",
    "        self.occur_list = occur_list\n",
    "        self.comments = comments\n",
    "\n",
    "    def __str__(self):\n",
    "        return f\"\"\"Number of variables: {self.n_variables}\n",
    "                Clauses: {str(self.clauses)}\n",
    "                Comments: {str(self.comments)}\"\"\"\n",
    "\n",
    "    def to_file(self, filename):\n",
    "        with open(filename, 'w') as f:\n",
    "            f.write(self.to_string())\n",
    "\n",
    "    def to_string(self):\n",
    "        string = f'p cnf {self.n_variables} {len(self.clauses)}\\n'\n",
    "        for clause in self.clauses:\n",
    "            string += ' '.join(str(literal) for literal in clause) + ' 0\\n'\n",
    "        return string\n",
    "\n",
    "    @classmethod\n",
    "    def from_file(cls, filename):\n",
    "        with open(filename) as f:\n",
    "            return cls.from_string(f.read())\n",
    "\n",
    "    @classmethod\n",
    "    def from_string(cls, string):\n",
    "        n_variables, clauses, occur_list, comments = CNF.parse_dimacs(string)\n",
    "        return cls(n_variables, clauses, occur_list, comments)\n",
    "\n",
    "    @staticmethod\n",
    "    def parse_dimacs(string):\n",
    "        n_variables = 0\n",
    "        clauses = []\n",
    "        comments = []\n",
    "        for line in string.splitlines():\n",
    "            line = line.strip()\n",
    "            if not line:\n",
    "                continue\n",
    "            elif line[0] == 'c':\n",
    "                comments.append(line)\n",
    "            elif line.startswith('p cnf'):\n",
    "                tokens = line.split()\n",
    "                n_variables, n_remaining_clauses = int(tokens[2]), int(tokens[3])\n",
    "                occur_list = [[] for _ in range(n_variables * 2 + 1)]\n",
    "            elif n_remaining_clauses > 0:\n",
    "                clause = []\n",
    "                clause_index = len(clauses)\n",
    "                for literal in line.split()[:-1]:\n",
    "                    literal = int(literal)\n",
    "                    clause.append(literal)\n",
    "                    occur_list[literal].append(clause_index)\n",
    "                clauses.append(clause)\n",
    "                n_remaining_clauses -= 1\n",
    "            else:\n",
    "                break\n",
    "        return n_variables, clauses, occur_list, comments"
   ]
  },
  {
   "cell_type": "code",
   "execution_count": 23,
   "id": "6b234266",
   "metadata": {},
   "outputs": [],
   "source": [
    "import os\n",
    "k=3\n",
    "n=20\n",
    "m=91\n",
    "\n",
    "load_folder='SATLIB'\n",
    "files=os.listdir(load_folder)\n",
    "\n",
    "for instance_no,file in enumerate(files):\n",
    "    formula=CNF.from_file(os.path.join(load_folder,file))\n",
    "    sparse_matrix=formula_to_sparse(formula)\n",
    "    save_npz(f'data/testing/Uniform Random-3-SAT/k{k}_n{n}_m{m}_instance_{instance_no}', sparse_matrix)\n",
    "    "
   ]
  },
  {
   "cell_type": "code",
   "execution_count": null,
   "id": "469dc6af",
   "metadata": {},
   "outputs": [],
   "source": []
  }
 ],
 "metadata": {
  "kernelspec": {
   "display_name": "Python 3 (ipykernel)",
   "language": "python",
   "name": "python3"
  },
  "language_info": {
   "codemirror_mode": {
    "name": "ipython",
    "version": 3
   },
   "file_extension": ".py",
   "mimetype": "text/x-python",
   "name": "python",
   "nbconvert_exporter": "python",
   "pygments_lexer": "ipython3",
   "version": "3.10.12"
  }
 },
 "nbformat": 4,
 "nbformat_minor": 5
}
