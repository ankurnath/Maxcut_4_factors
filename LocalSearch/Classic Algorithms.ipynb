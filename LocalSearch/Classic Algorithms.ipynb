{
 "cells": [
  {
   "cell_type": "code",
   "execution_count": 1,
   "id": "72217b15",
   "metadata": {},
   "outputs": [],
   "source": [
    "from  numba import njit\n",
    "import numpy as np\n",
    "# import pickle\n",
    "from src.envs.utils import GraphDataset"
   ]
  },
  {
   "cell_type": "code",
   "execution_count": 2,
   "id": "a7d03d13",
   "metadata": {},
   "outputs": [],
   "source": [
    "@njit\n",
    "def flatten_graph(graph):\n",
    "    \"\"\"\n",
    "    Flatten a graph into matrices for adjacency, weights, start indices, and end indices.\n",
    "\n",
    "    Parameters:\n",
    "    - graph (adjacency matrix): The input graph to be flattened.\n",
    "\n",
    "    Returns:\n",
    "    - numpy.ndarray: Flattened adjacency matrix.\n",
    "    - numpy.ndarray: Flattened weight matrix.\n",
    "    - numpy.ndarray: Start indices for nodes in the flattened matrices.\n",
    "    - numpy.ndarray: End indices for nodes in the flattened matrices.\n",
    "    \"\"\"\n",
    "    flattened_adjacency = []\n",
    "    flattened_weights = []\n",
    "    num_nodes = graph.shape[0]\n",
    "    \n",
    "    node_start_indices = np.zeros(num_nodes,dtype=np.int64)\n",
    "    node_end_indices = np.zeros(num_nodes,dtype=np.int64)\n",
    "    \n",
    "    for i in range(num_nodes):\n",
    "        node_start_indices[i] = len(flattened_adjacency)\n",
    "        for j in range(num_nodes):\n",
    "            if graph[i, j] != 0:\n",
    "                flattened_adjacency.append(j)\n",
    "                flattened_weights.append(graph[i, j])\n",
    "                \n",
    "        node_end_indices[i] = len(flattened_adjacency)\n",
    "\n",
    "    return (\n",
    "        np.array(flattened_adjacency),\n",
    "        np.array(flattened_weights),\n",
    "        node_start_indices,\n",
    "        node_end_indices\n",
    "    )\n",
    "\n",
    "\n",
    "\n"
   ]
  },
  {
   "cell_type": "code",
   "execution_count": 3,
   "id": "bc7a956a",
   "metadata": {},
   "outputs": [],
   "source": [
    "@njit\n",
    "def standard_greedy(graph):\n",
    "    adj_matrix, weight_matrix, start_list, end_list=graph\n",
    "    \n",
    "    n=len(start_list)\n",
    "    delta_local_cuts=np.zeros(n)\n",
    "    spins=np.ones(n)\n",
    "    \n",
    "    \n",
    "    curr_score=0\n",
    "    for i in range(n):\n",
    "        for j,weight in zip(adj_matrix[start_list[i]:end_list[i]],\n",
    "                  weight_matrix[start_list[i]:end_list[i]]):\n",
    "                \n",
    "            delta_local_cuts[i]+=weight*(2*spins[i]-1)*(2*spins[j]-1)\n",
    "            curr_score+=weight*(spins[i]+spins[j]-2*spins[i]*spins[j])\n",
    "\n",
    "    curr_score/=2    \n",
    "    # best_score=curr_score\n",
    "    \n",
    "    flag=True\n",
    "    \n",
    "    while flag:\n",
    "        arg_gain=np.argsort(-delta_local_cuts)\n",
    "        flag=False\n",
    "        for v in arg_gain:\n",
    "            if spins[v]:\n",
    "                if delta_local_cuts[v]<0:\n",
    "                    flag=False\n",
    "                    break\n",
    "                    \n",
    "                curr_score+=delta_local_cuts[v]\n",
    "                delta_local_cuts[v]=-delta_local_cuts[v]\n",
    "                \n",
    "                for u,weight in zip(adj_matrix[start_list[v]:end_list[v]],\n",
    "                                     weight_matrix[start_list[v]:end_list[v]]):\n",
    "\n",
    "                    delta_local_cuts[u]+=weight*(2*spins[u]-1)*(2-4*spins[v])\n",
    "\n",
    "                spins[v] = 1-spins[v]\n",
    "                flag=True\n",
    "                break\n",
    "                  \n",
    "    return curr_score,spins"
   ]
  },
  {
   "cell_type": "code",
   "execution_count": 4,
   "id": "04d38d11",
   "metadata": {},
   "outputs": [],
   "source": [
    "@njit\n",
    "def mca(graph,spins):\n",
    "    adj_matrix, weight_matrix, start_list, end_list=graph\n",
    "    \n",
    "    n=len(start_list)\n",
    "    delta_local_cuts=np.zeros(n)\n",
    "    \n",
    "    \n",
    "    \n",
    "    curr_score=0\n",
    "    for i in range(n):\n",
    "        for j,weight in zip(adj_matrix[start_list[i]:end_list[i]],weight_matrix[start_list[i]:end_list[i]]):\n",
    "                \n",
    "            delta_local_cuts[i]+=weight*(2*spins[i]-1)*(2*spins[j]-1)\n",
    "            curr_score+=weight*(spins[i]+spins[j]-2*spins[i]*spins[j])\n",
    "\n",
    "    curr_score/=2   \n",
    "    best_score=curr_score\n",
    "    \n",
    "    flag=True\n",
    "    \n",
    "    while flag:\n",
    "        arg_gain=np.argsort(-delta_local_cuts)\n",
    "        flag=False\n",
    "        for v in arg_gain:\n",
    "            \n",
    "            if delta_local_cuts[v]<=0:\n",
    "                flag=False\n",
    "                break\n",
    "                    \n",
    "            curr_score+=delta_local_cuts[v]\n",
    "            delta_local_cuts[v]=-delta_local_cuts[v]\n",
    "\n",
    "            for u,weight in zip(adj_matrix[start_list[v]:end_list[v]],\n",
    "                                 weight_matrix[start_list[v]:end_list[v]]):\n",
    "\n",
    "                delta_local_cuts[u]+=weight*(2*spins[u]-1)*(2-4*spins[v])\n",
    "\n",
    "            spins[v] =1-spins[v]\n",
    "            flag=True\n",
    "            break\n",
    "                  \n",
    "    return curr_score,spins"
   ]
  },
  {
   "cell_type": "code",
   "execution_count": 5,
   "id": "6f82f728",
   "metadata": {},
   "outputs": [],
   "source": [
    "@njit\n",
    "def tabu(graph,spins,tabu_tenure,max_steps):\n",
    "    adj_matrix, weight_matrix, start_list, end_list=graph\n",
    "    \n",
    "    n=len(start_list)\n",
    "    delta_local_cuts=np.zeros(n)\n",
    "    \n",
    "    tabu_list=np.ones(n)*-10000\n",
    "    curr_score=0\n",
    "    for i in range(n):\n",
    "        for j,weight in zip(adj_matrix[start_list[i]:end_list[i]],\n",
    "                  weight_matrix[start_list[i]:end_list[i]]):\n",
    "                \n",
    "            delta_local_cuts[i]+=weight*(2*spins[i]-1)*(2*spins[j]-1)\n",
    "            curr_score+=weight*(spins[i]+spins[j]-2*spins[i]*spins[j])\n",
    "            \n",
    "#     print(delta_local_cuts)\n",
    "\n",
    "    curr_score/=2    \n",
    "    best_score=curr_score\n",
    "\n",
    "    for t in range(max_steps):\n",
    "        arg_gain=np.argsort(-delta_local_cuts)\n",
    "        for v in arg_gain:\n",
    "            if (t-tabu_list[v]> tabu_tenure) or (best_score < curr_score + delta_local_cuts[v]):\n",
    "\n",
    "                tabu_list[v] = t\n",
    "\n",
    "                curr_score+=delta_local_cuts[v]\n",
    "                delta_local_cuts[v]=-delta_local_cuts[v]\n",
    "                \n",
    "                for u,weight in zip(adj_matrix[start_list[v]:end_list[v]],\n",
    "                                     weight_matrix[start_list[v]:end_list[v]]):\n",
    "\n",
    "                    delta_local_cuts[u]+=weight*(2*spins[u]-1)*(2-4*spins[v])\n",
    "\n",
    "                spins[v] = 1-spins[v]\n",
    "\n",
    "                break\n",
    "\n",
    "                \n",
    "        best_score=max(curr_score,best_score)\n",
    "    return best_score,None\n",
    "    \n",
    "    "
   ]
  },
  {
   "cell_type": "code",
   "execution_count": 19,
   "id": "cf435166",
   "metadata": {},
   "outputs": [],
   "source": [
    "# graph_save_loc=f'_graphs/testing/ER_{\"15-20\"}spin_p{0.15}_50graphs.pkl'\n",
    "# graphs=load_graph_set(graph_save_loc)"
   ]
  },
  {
   "cell_type": "code",
   "execution_count": 32,
   "id": "75438143",
   "metadata": {},
   "outputs": [],
   "source": [
    "# test_dataset=GraphDataset('../data/testing/wishart_100vertices_m50',ordered=True)\n",
    "# test_dataset=GraphDataset('../data/validation/Uniform Random-3-SAT',ordered=True)\n",
    "test_dataset=GraphDataset('../data/testing/dense_MC_100_200vertices_unweighted',ordered=True)\n",
    "# test_dataset=GraphDataset('../data/validation/dense_MC_100_200vertices_unweighted',ordered=True)\n",
    "\n",
    "# test_dataset=GraphDataset('../data/validation/SK_spin_70_100vertices_weighted',ordered=True)\n",
    "\n",
    "# test_dataset=GraphDataset('../data/testing/SK_spin_70_100vertices_weighted',ordered=True)\n"
   ]
  },
  {
   "cell_type": "code",
   "execution_count": 33,
   "id": "fe5dea84",
   "metadata": {},
   "outputs": [],
   "source": [
    "# test_dataset=GraphDataset('data/testing/Uniform Random-3-SAT',ordered=True)\n",
    "tabu_cuts=[]\n",
    "num_repeat=50\n",
    "for i in range(len(test_dataset)):\n",
    "# for i in range(100):\n",
    "#     flatten_graph(graph)\n",
    "    graph=test_dataset.get()\n",
    "    g=flatten_graph(graph)\n",
    "    best_tabu_cut=0\n",
    "    for _ in range(num_repeat):\n",
    "        spins= np.random.randint(2, size=graph.shape[0])\n",
    "#     print(spins)\n",
    "        cut,spins=tabu(g,spins,tabu_tenure=10,max_steps=graph.shape[0]*2)\n",
    "        best_tabu_cut=max(best_tabu_cut,cut)\n",
    "    \n",
    "    tabu_cuts.append(best_tabu_cut)\n",
    "    \n",
    "# print('Mean Tabu Cut:',sum(tabu_cuts)/len(tabu_cuts))\n",
    "tabu_cuts=np.array(tabu_cuts)"
   ]
  },
  {
   "cell_type": "code",
   "execution_count": 34,
   "id": "9c11f014",
   "metadata": {},
   "outputs": [
    {
     "data": {
      "text/plain": [
       "['../data/testing/dense_MC_100_200vertices_unweighted/dense_MC_0100vertices_graph_0001.npz',\n",
       " '../data/testing/dense_MC_100_200vertices_unweighted/dense_MC_0100vertices_graph_0002.npz',\n",
       " '../data/testing/dense_MC_100_200vertices_unweighted/dense_MC_0100vertices_graph_0003.npz',\n",
       " '../data/testing/dense_MC_100_200vertices_unweighted/dense_MC_0100vertices_graph_0004.npz',\n",
       " '../data/testing/dense_MC_100_200vertices_unweighted/dense_MC_0100vertices_graph_0005.npz',\n",
       " '../data/testing/dense_MC_100_200vertices_unweighted/dense_MC_0100vertices_graph_0006.npz',\n",
       " '../data/testing/dense_MC_100_200vertices_unweighted/dense_MC_0100vertices_graph_0007.npz',\n",
       " '../data/testing/dense_MC_100_200vertices_unweighted/dense_MC_0100vertices_graph_0008.npz',\n",
       " '../data/testing/dense_MC_100_200vertices_unweighted/dense_MC_0100vertices_graph_0009.npz',\n",
       " '../data/testing/dense_MC_100_200vertices_unweighted/dense_MC_0100vertices_graph_0010.npz',\n",
       " '../data/testing/dense_MC_100_200vertices_unweighted/dense_MC_0200vertices_graph_0001.npz',\n",
       " '../data/testing/dense_MC_100_200vertices_unweighted/dense_MC_0200vertices_graph_0002.npz',\n",
       " '../data/testing/dense_MC_100_200vertices_unweighted/dense_MC_0200vertices_graph_0003.npz',\n",
       " '../data/testing/dense_MC_100_200vertices_unweighted/dense_MC_0200vertices_graph_0004.npz',\n",
       " '../data/testing/dense_MC_100_200vertices_unweighted/dense_MC_0200vertices_graph_0005.npz',\n",
       " '../data/testing/dense_MC_100_200vertices_unweighted/dense_MC_0200vertices_graph_0006.npz',\n",
       " '../data/testing/dense_MC_100_200vertices_unweighted/dense_MC_0200vertices_graph_0007.npz',\n",
       " '../data/testing/dense_MC_100_200vertices_unweighted/dense_MC_0200vertices_graph_0008.npz',\n",
       " '../data/testing/dense_MC_100_200vertices_unweighted/dense_MC_0200vertices_graph_0009.npz',\n",
       " '../data/testing/dense_MC_100_200vertices_unweighted/dense_MC_0200vertices_graph_0010.npz']"
      ]
     },
     "execution_count": 34,
     "metadata": {},
     "output_type": "execute_result"
    }
   ],
   "source": [
    "test_dataset.file_paths"
   ]
  },
  {
   "cell_type": "code",
   "execution_count": 35,
   "id": "f8b35c19",
   "metadata": {},
   "outputs": [],
   "source": [
    "# test_dataset=GraphDataset('data/testing/Uniform Random-3-SAT',ordered=True)\n",
    "mca_cuts=[]\n",
    "sg_cuts=[]\n",
    "\n",
    "num_repeat=50\n",
    "for i in range(len(test_dataset)):\n",
    "# for i in range(100):\n",
    "#     flatten_graph(graph)\n",
    "    graph=test_dataset.get()\n",
    "    g=flatten_graph(graph)\n",
    "\n",
    "    best_mca_cut=0\n",
    "    for _ in range(num_repeat):\n",
    "        spins= np.random.randint(2, size=graph.shape[0])\n",
    "    #     print(spins)\n",
    "        cut,spins=mca(g,spins)\n",
    "        best_mca_cut=max(cut,best_mca_cut)\n",
    "\n",
    "    sg_cut,sg_spins=standard_greedy(g)\n",
    "    \n",
    "    mca_cuts.append(best_mca_cut)\n",
    "    sg_cuts.append(sg_cut)\n",
    "\n",
    "sg_cuts=np.array(sg_cuts)\n",
    "mca_cuts=np.array(mca_cuts)"
   ]
  },
  {
   "cell_type": "code",
   "execution_count": 36,
   "id": "d59516c4",
   "metadata": {},
   "outputs": [
    {
     "name": "stdout",
     "output_type": "stream",
     "text": [
      "Tabu: 1.0184030998658014\n",
      "Max Cut Approx: 1.0138345055632405\n"
     ]
    }
   ],
   "source": [
    "print('Tabu:',(tabu_cuts/sg_cuts).mean())\n",
    "print('Max Cut Approx:',(mca_cuts/sg_cuts).mean())\n"
   ]
  },
  {
   "cell_type": "code",
   "execution_count": 52,
   "id": "f087ce89",
   "metadata": {},
   "outputs": [
    {
     "data": {
      "text/plain": [
       "array([1438., 1429., 1435., 1431., 1429., 1432., 1431., 1431., 1424.,\n",
       "       1431., 5501., 5506., 5512., 5494., 5502., 5510., 5520., 5504.,\n",
       "       5513., 5509.])"
      ]
     },
     "execution_count": 52,
     "metadata": {},
     "output_type": "execute_result"
    }
   ],
   "source": [
    "tabu_cuts"
   ]
  },
  {
   "cell_type": "code",
   "execution_count": 53,
   "id": "ffb6394f",
   "metadata": {},
   "outputs": [
    {
     "data": {
      "text/plain": [
       "array([1.00348918, 1.00351124, 1.00139567, 1.00421053, 1.00210379,\n",
       "       1.00703235, 1.00210084, 1.00350631, 1.00921332, 1.00916784,\n",
       "       1.00419861, 1.00200182, 1.00767824, 1.00109329, 1.00493151,\n",
       "       1.00327749, 1.00363636, 1.00456288, 1.00547146, 1.00768246])"
      ]
     },
     "execution_count": 53,
     "metadata": {},
     "output_type": "execute_result"
    }
   ],
   "source": [
    "tabu_cuts/mca_cuts"
   ]
  },
  {
   "cell_type": "code",
   "execution_count": 54,
   "id": "e609125a",
   "metadata": {},
   "outputs": [
    {
     "data": {
      "text/plain": [
       "array([1438., 1429., 1435., 1431., 1429., 1432., 1431., 1431., 1424.,\n",
       "       1431., 5501., 5506., 5512., 5494., 5502., 5510., 5520., 5504.,\n",
       "       5513., 5509.])"
      ]
     },
     "execution_count": 54,
     "metadata": {},
     "output_type": "execute_result"
    }
   ],
   "source": [
    "tabu_cuts"
   ]
  },
  {
   "cell_type": "code",
   "execution_count": 55,
   "id": "67ec2fe2",
   "metadata": {},
   "outputs": [
    {
     "data": {
      "text/plain": [
       "array([1433., 1424., 1433., 1425., 1426., 1422., 1428., 1426., 1411.,\n",
       "       1418., 5478., 5495., 5470., 5488., 5475., 5492., 5500., 5479.,\n",
       "       5483., 5467.])"
      ]
     },
     "execution_count": 55,
     "metadata": {},
     "output_type": "execute_result"
    }
   ],
   "source": [
    "mca_cuts"
   ]
  },
  {
   "cell_type": "code",
   "execution_count": 56,
   "id": "06555993",
   "metadata": {},
   "outputs": [
    {
     "data": {
      "text/plain": [
       "array([1429., 1401., 1399., 1388., 1402., 1402., 1396., 1397., 1393.,\n",
       "       1407., 5411., 5421., 5416., 5416., 5428., 5418., 5439., 5409.,\n",
       "       5416., 5453.])"
      ]
     },
     "execution_count": 56,
     "metadata": {},
     "output_type": "execute_result"
    }
   ],
   "source": [
    "sg_cuts"
   ]
  },
  {
   "cell_type": "code",
   "execution_count": 57,
   "id": "1256aaa3",
   "metadata": {},
   "outputs": [],
   "source": [
    "import pandas as pd\n",
    "import pickle"
   ]
  },
  {
   "cell_type": "code",
   "execution_count": 58,
   "id": "8669e6b6",
   "metadata": {},
   "outputs": [],
   "source": [
    "# Open the pickle file for reading in binary mode\n",
    "with open('../data/testing/dense_MC_100_200vertices_unweighted/optimal', 'rb') as f:\n",
    "# with open('../data/testing/SK_spin_70_100vertices_weighted/optimal', 'rb') as f:\n",
    "\n",
    "    # Load the contents of the pickle file\n",
    "    data = pickle.load(f)\n",
    "    # data = data.sort_values(by='Instance')"
   ]
  },
  {
   "cell_type": "code",
   "execution_count": 59,
   "id": "e40d8ba1",
   "metadata": {},
   "outputs": [
    {
     "data": {
      "text/html": [
       "<div>\n",
       "<style scoped>\n",
       "    .dataframe tbody tr th:only-of-type {\n",
       "        vertical-align: middle;\n",
       "    }\n",
       "\n",
       "    .dataframe tbody tr th {\n",
       "        vertical-align: top;\n",
       "    }\n",
       "\n",
       "    .dataframe thead th {\n",
       "        text-align: right;\n",
       "    }\n",
       "</style>\n",
       "<table border=\"1\" class=\"dataframe\">\n",
       "  <thead>\n",
       "    <tr style=\"text-align: right;\">\n",
       "      <th></th>\n",
       "      <th>Instance</th>\n",
       "      <th>OPT</th>\n",
       "    </tr>\n",
       "  </thead>\n",
       "  <tbody>\n",
       "    <tr>\n",
       "      <th>0</th>\n",
       "      <td>dense_MC_0100vertices_graph_0001</td>\n",
       "      <td>1438.0</td>\n",
       "    </tr>\n",
       "    <tr>\n",
       "      <th>1</th>\n",
       "      <td>dense_MC_0100vertices_graph_0002</td>\n",
       "      <td>1429.0</td>\n",
       "    </tr>\n",
       "    <tr>\n",
       "      <th>2</th>\n",
       "      <td>dense_MC_0100vertices_graph_0003</td>\n",
       "      <td>1435.0</td>\n",
       "    </tr>\n",
       "    <tr>\n",
       "      <th>3</th>\n",
       "      <td>dense_MC_0100vertices_graph_0004</td>\n",
       "      <td>1431.0</td>\n",
       "    </tr>\n",
       "    <tr>\n",
       "      <th>4</th>\n",
       "      <td>dense_MC_0100vertices_graph_0005</td>\n",
       "      <td>1429.0</td>\n",
       "    </tr>\n",
       "    <tr>\n",
       "      <th>5</th>\n",
       "      <td>dense_MC_0100vertices_graph_0006</td>\n",
       "      <td>1432.0</td>\n",
       "    </tr>\n",
       "    <tr>\n",
       "      <th>6</th>\n",
       "      <td>dense_MC_0100vertices_graph_0007</td>\n",
       "      <td>1431.0</td>\n",
       "    </tr>\n",
       "    <tr>\n",
       "      <th>7</th>\n",
       "      <td>dense_MC_0100vertices_graph_0008</td>\n",
       "      <td>1431.0</td>\n",
       "    </tr>\n",
       "    <tr>\n",
       "      <th>8</th>\n",
       "      <td>dense_MC_0100vertices_graph_0009</td>\n",
       "      <td>1424.0</td>\n",
       "    </tr>\n",
       "    <tr>\n",
       "      <th>9</th>\n",
       "      <td>dense_MC_0100vertices_graph_0010</td>\n",
       "      <td>1431.0</td>\n",
       "    </tr>\n",
       "    <tr>\n",
       "      <th>10</th>\n",
       "      <td>dense_MC_0200vertices_graph_0001</td>\n",
       "      <td>5501.0</td>\n",
       "    </tr>\n",
       "    <tr>\n",
       "      <th>11</th>\n",
       "      <td>dense_MC_0200vertices_graph_0002</td>\n",
       "      <td>5506.0</td>\n",
       "    </tr>\n",
       "    <tr>\n",
       "      <th>12</th>\n",
       "      <td>dense_MC_0200vertices_graph_0003</td>\n",
       "      <td>5512.0</td>\n",
       "    </tr>\n",
       "    <tr>\n",
       "      <th>13</th>\n",
       "      <td>dense_MC_0200vertices_graph_0004</td>\n",
       "      <td>5494.0</td>\n",
       "    </tr>\n",
       "    <tr>\n",
       "      <th>14</th>\n",
       "      <td>dense_MC_0200vertices_graph_0005</td>\n",
       "      <td>5502.0</td>\n",
       "    </tr>\n",
       "    <tr>\n",
       "      <th>15</th>\n",
       "      <td>dense_MC_0200vertices_graph_0006</td>\n",
       "      <td>5510.0</td>\n",
       "    </tr>\n",
       "    <tr>\n",
       "      <th>16</th>\n",
       "      <td>dense_MC_0200vertices_graph_0007</td>\n",
       "      <td>5520.0</td>\n",
       "    </tr>\n",
       "    <tr>\n",
       "      <th>17</th>\n",
       "      <td>dense_MC_0200vertices_graph_0008</td>\n",
       "      <td>5504.0</td>\n",
       "    </tr>\n",
       "    <tr>\n",
       "      <th>18</th>\n",
       "      <td>dense_MC_0200vertices_graph_0009</td>\n",
       "      <td>5513.0</td>\n",
       "    </tr>\n",
       "    <tr>\n",
       "      <th>19</th>\n",
       "      <td>dense_MC_0200vertices_graph_0010</td>\n",
       "      <td>5509.0</td>\n",
       "    </tr>\n",
       "  </tbody>\n",
       "</table>\n",
       "</div>"
      ],
      "text/plain": [
       "                            Instance     OPT\n",
       "0   dense_MC_0100vertices_graph_0001  1438.0\n",
       "1   dense_MC_0100vertices_graph_0002  1429.0\n",
       "2   dense_MC_0100vertices_graph_0003  1435.0\n",
       "3   dense_MC_0100vertices_graph_0004  1431.0\n",
       "4   dense_MC_0100vertices_graph_0005  1429.0\n",
       "5   dense_MC_0100vertices_graph_0006  1432.0\n",
       "6   dense_MC_0100vertices_graph_0007  1431.0\n",
       "7   dense_MC_0100vertices_graph_0008  1431.0\n",
       "8   dense_MC_0100vertices_graph_0009  1424.0\n",
       "9   dense_MC_0100vertices_graph_0010  1431.0\n",
       "10  dense_MC_0200vertices_graph_0001  5501.0\n",
       "11  dense_MC_0200vertices_graph_0002  5506.0\n",
       "12  dense_MC_0200vertices_graph_0003  5512.0\n",
       "13  dense_MC_0200vertices_graph_0004  5494.0\n",
       "14  dense_MC_0200vertices_graph_0005  5502.0\n",
       "15  dense_MC_0200vertices_graph_0006  5510.0\n",
       "16  dense_MC_0200vertices_graph_0007  5520.0\n",
       "17  dense_MC_0200vertices_graph_0008  5504.0\n",
       "18  dense_MC_0200vertices_graph_0009  5513.0\n",
       "19  dense_MC_0200vertices_graph_0010  5509.0"
      ]
     },
     "execution_count": 59,
     "metadata": {},
     "output_type": "execute_result"
    }
   ],
   "source": [
    "data"
   ]
  },
  {
   "cell_type": "code",
   "execution_count": 45,
   "id": "68669066",
   "metadata": {},
   "outputs": [
    {
     "data": {
      "text/plain": [
       "0     1438.0\n",
       "1     1429.0\n",
       "2     1435.0\n",
       "3     1431.0\n",
       "4     1429.0\n",
       "5     1432.0\n",
       "6     1431.0\n",
       "7     1431.0\n",
       "8     1424.0\n",
       "9     1431.0\n",
       "10    5501.0\n",
       "11    5506.0\n",
       "12    5512.0\n",
       "13    5494.0\n",
       "14    5502.0\n",
       "15    5510.0\n",
       "16    5520.0\n",
       "17    5504.0\n",
       "18    5513.0\n",
       "19    5509.0\n",
       "Name: OPT, dtype: float64"
      ]
     },
     "execution_count": 45,
     "metadata": {},
     "output_type": "execute_result"
    }
   ],
   "source": [
    "data['OPT']"
   ]
  },
  {
   "cell_type": "code",
   "execution_count": 81,
   "id": "b8bcb450",
   "metadata": {},
   "outputs": [
    {
     "name": "stdout",
     "output_type": "stream",
     "text": [
      "1.0\n"
     ]
    }
   ],
   "source": [
    "s2v_cuts=[1408.0, 1405.0, 1411.0, 1420.0, 1411.0, 1404.0, 1405.0, 1404.0, 1415.0, 1391.0, 5459.0, 5435.0, 5429.0, 5454.0, 5398.0, 5425.0, 5445.0, 5439.0, 5433.0, 5463.0]\n",
    "ECO_DQN_cuts=[382.0, 359.0, 377.0, 405.0, 437.0, 330.0, 373.0, 356.0, 406.0, 374.0, 267.0, 190.0, 200.0, 225.0, 203.0, 208.0, 214.0, 187.0, 206.0, 193.0, 290.0, 266.0, 272.0, 258.0, 213.0, 272.0, 269.0, 234.0, 242.0, 255.0, 330.0, 291.0, 293.0, 312.0, 343.0, 348.0, 317.0, 282.0, 384.0, 314.0]\n",
    "print((ECO_DQN_cuts/data['OPT']).mean())"
   ]
  },
  {
   "cell_type": "code",
   "execution_count": 46,
   "id": "8992aebc",
   "metadata": {},
   "outputs": [
    {
     "data": {
      "text/plain": [
       "0.9819577546343975"
      ]
     },
     "execution_count": 46,
     "metadata": {},
     "output_type": "execute_result"
    }
   ],
   "source": [
    "(sg_cuts/data['OPT']).mean()"
   ]
  },
  {
   "cell_type": "code",
   "execution_count": 47,
   "id": "84e3a797",
   "metadata": {},
   "outputs": [
    {
     "data": {
      "text/plain": [
       "1.0"
      ]
     },
     "execution_count": 47,
     "metadata": {},
     "output_type": "execute_result"
    }
   ],
   "source": [
    "(tabu_cuts/data['OPT']).mean()"
   ]
  },
  {
   "cell_type": "code",
   "execution_count": 48,
   "id": "68d02899",
   "metadata": {},
   "outputs": [
    {
     "data": {
      "text/plain": [
       "0.9955127399332779"
      ]
     },
     "execution_count": 48,
     "metadata": {},
     "output_type": "execute_result"
    }
   ],
   "source": [
    "(mca_cuts/data['OPT']).mean()"
   ]
  },
  {
   "cell_type": "code",
   "execution_count": 49,
   "id": "ad69047b",
   "metadata": {},
   "outputs": [
    {
     "data": {
      "text/plain": [
       "0.9931226856207476"
      ]
     },
     "execution_count": 49,
     "metadata": {},
     "output_type": "execute_result"
    }
   ],
   "source": [
    "#dense\n",
    "gflow_cuts=[1428.0, 1411.0, 1425.0, 1429.0, 1417.0, 1424.0, 1428.0, 1431.0, 1425.0, 1412.0, 5451.0, 5463.0, 5461.0, 5463.0, 5468.0, 5453.0, 5473.0, 5460.0, 5449.0, 5484.0]\n",
    "# SK\n",
    "# gflow_cuts=[330.0, 334.0, 334.0, 368.0, 410.0, 282.0, 348.0, 314.0, 374.0, 332.0, 257.0, 149.0, 187.0, 211.0, 175.0, 197.0, 185.0, 159.0, 199.0, 171.0, 282.0, 256.0, 250.0, 244.0, 168.0, 254.0, 214.0, 200.0, 216.0, 236.0, 315.0, 267.0, 267.0, 277.0, 305.0, 337.0, 293.0, 247.0, 367.0, 291.0]\n",
    "(gflow_cuts/data['OPT']).mean()"
   ]
  },
  {
   "cell_type": "code",
   "execution_count": 50,
   "id": "5878333b",
   "metadata": {},
   "outputs": [
    {
     "data": {
      "text/plain": [
       "0     0.993046\n",
       "1     0.987404\n",
       "2     0.993031\n",
       "3     0.998602\n",
       "4     0.991603\n",
       "5     0.994413\n",
       "6     0.997904\n",
       "7     1.000000\n",
       "8     1.000702\n",
       "9     0.986723\n",
       "10    0.990911\n",
       "11    0.992190\n",
       "12    0.990747\n",
       "13    0.994357\n",
       "14    0.993820\n",
       "15    0.989655\n",
       "16    0.991486\n",
       "17    0.992006\n",
       "18    0.988391\n",
       "19    0.995462\n",
       "Name: OPT, dtype: float64"
      ]
     },
     "execution_count": 50,
     "metadata": {},
     "output_type": "execute_result"
    }
   ],
   "source": [
    "gflow_cuts/data['OPT']"
   ]
  },
  {
   "cell_type": "code",
   "execution_count": 51,
   "id": "0d72c7d2",
   "metadata": {},
   "outputs": [
    {
     "data": {
      "text/html": [
       "<div>\n",
       "<style scoped>\n",
       "    .dataframe tbody tr th:only-of-type {\n",
       "        vertical-align: middle;\n",
       "    }\n",
       "\n",
       "    .dataframe tbody tr th {\n",
       "        vertical-align: top;\n",
       "    }\n",
       "\n",
       "    .dataframe thead th {\n",
       "        text-align: right;\n",
       "    }\n",
       "</style>\n",
       "<table border=\"1\" class=\"dataframe\">\n",
       "  <thead>\n",
       "    <tr style=\"text-align: right;\">\n",
       "      <th></th>\n",
       "      <th>Instance</th>\n",
       "      <th>OPT</th>\n",
       "    </tr>\n",
       "  </thead>\n",
       "  <tbody>\n",
       "    <tr>\n",
       "      <th>0</th>\n",
       "      <td>dense_MC_0100vertices_graph_0001</td>\n",
       "      <td>1438.0</td>\n",
       "    </tr>\n",
       "    <tr>\n",
       "      <th>1</th>\n",
       "      <td>dense_MC_0100vertices_graph_0002</td>\n",
       "      <td>1429.0</td>\n",
       "    </tr>\n",
       "    <tr>\n",
       "      <th>2</th>\n",
       "      <td>dense_MC_0100vertices_graph_0003</td>\n",
       "      <td>1435.0</td>\n",
       "    </tr>\n",
       "    <tr>\n",
       "      <th>3</th>\n",
       "      <td>dense_MC_0100vertices_graph_0004</td>\n",
       "      <td>1431.0</td>\n",
       "    </tr>\n",
       "    <tr>\n",
       "      <th>4</th>\n",
       "      <td>dense_MC_0100vertices_graph_0005</td>\n",
       "      <td>1429.0</td>\n",
       "    </tr>\n",
       "    <tr>\n",
       "      <th>5</th>\n",
       "      <td>dense_MC_0100vertices_graph_0006</td>\n",
       "      <td>1432.0</td>\n",
       "    </tr>\n",
       "    <tr>\n",
       "      <th>6</th>\n",
       "      <td>dense_MC_0100vertices_graph_0007</td>\n",
       "      <td>1431.0</td>\n",
       "    </tr>\n",
       "    <tr>\n",
       "      <th>7</th>\n",
       "      <td>dense_MC_0100vertices_graph_0008</td>\n",
       "      <td>1431.0</td>\n",
       "    </tr>\n",
       "    <tr>\n",
       "      <th>8</th>\n",
       "      <td>dense_MC_0100vertices_graph_0009</td>\n",
       "      <td>1424.0</td>\n",
       "    </tr>\n",
       "    <tr>\n",
       "      <th>9</th>\n",
       "      <td>dense_MC_0100vertices_graph_0010</td>\n",
       "      <td>1431.0</td>\n",
       "    </tr>\n",
       "    <tr>\n",
       "      <th>10</th>\n",
       "      <td>dense_MC_0200vertices_graph_0001</td>\n",
       "      <td>5501.0</td>\n",
       "    </tr>\n",
       "    <tr>\n",
       "      <th>11</th>\n",
       "      <td>dense_MC_0200vertices_graph_0002</td>\n",
       "      <td>5506.0</td>\n",
       "    </tr>\n",
       "    <tr>\n",
       "      <th>12</th>\n",
       "      <td>dense_MC_0200vertices_graph_0003</td>\n",
       "      <td>5512.0</td>\n",
       "    </tr>\n",
       "    <tr>\n",
       "      <th>13</th>\n",
       "      <td>dense_MC_0200vertices_graph_0004</td>\n",
       "      <td>5494.0</td>\n",
       "    </tr>\n",
       "    <tr>\n",
       "      <th>14</th>\n",
       "      <td>dense_MC_0200vertices_graph_0005</td>\n",
       "      <td>5502.0</td>\n",
       "    </tr>\n",
       "    <tr>\n",
       "      <th>15</th>\n",
       "      <td>dense_MC_0200vertices_graph_0006</td>\n",
       "      <td>5510.0</td>\n",
       "    </tr>\n",
       "    <tr>\n",
       "      <th>16</th>\n",
       "      <td>dense_MC_0200vertices_graph_0007</td>\n",
       "      <td>5520.0</td>\n",
       "    </tr>\n",
       "    <tr>\n",
       "      <th>17</th>\n",
       "      <td>dense_MC_0200vertices_graph_0008</td>\n",
       "      <td>5504.0</td>\n",
       "    </tr>\n",
       "    <tr>\n",
       "      <th>18</th>\n",
       "      <td>dense_MC_0200vertices_graph_0009</td>\n",
       "      <td>5513.0</td>\n",
       "    </tr>\n",
       "    <tr>\n",
       "      <th>19</th>\n",
       "      <td>dense_MC_0200vertices_graph_0010</td>\n",
       "      <td>5509.0</td>\n",
       "    </tr>\n",
       "  </tbody>\n",
       "</table>\n",
       "</div>"
      ],
      "text/plain": [
       "                            Instance     OPT\n",
       "0   dense_MC_0100vertices_graph_0001  1438.0\n",
       "1   dense_MC_0100vertices_graph_0002  1429.0\n",
       "2   dense_MC_0100vertices_graph_0003  1435.0\n",
       "3   dense_MC_0100vertices_graph_0004  1431.0\n",
       "4   dense_MC_0100vertices_graph_0005  1429.0\n",
       "5   dense_MC_0100vertices_graph_0006  1432.0\n",
       "6   dense_MC_0100vertices_graph_0007  1431.0\n",
       "7   dense_MC_0100vertices_graph_0008  1431.0\n",
       "8   dense_MC_0100vertices_graph_0009  1424.0\n",
       "9   dense_MC_0100vertices_graph_0010  1431.0\n",
       "10  dense_MC_0200vertices_graph_0001  5501.0\n",
       "11  dense_MC_0200vertices_graph_0002  5506.0\n",
       "12  dense_MC_0200vertices_graph_0003  5512.0\n",
       "13  dense_MC_0200vertices_graph_0004  5494.0\n",
       "14  dense_MC_0200vertices_graph_0005  5502.0\n",
       "15  dense_MC_0200vertices_graph_0006  5510.0\n",
       "16  dense_MC_0200vertices_graph_0007  5520.0\n",
       "17  dense_MC_0200vertices_graph_0008  5504.0\n",
       "18  dense_MC_0200vertices_graph_0009  5513.0\n",
       "19  dense_MC_0200vertices_graph_0010  5509.0"
      ]
     },
     "execution_count": 51,
     "metadata": {},
     "output_type": "execute_result"
    }
   ],
   "source": [
    "data"
   ]
  },
  {
   "cell_type": "code",
   "execution_count": 36,
   "id": "97b935ee",
   "metadata": {},
   "outputs": [],
   "source": [
    "import pandas as pd\n",
    "\n",
    "#SK\n",
    "run_csp_cuts = [301.0, 322.0, 365.0, 308.0, 419.0, 309.0, 339.0, 320.0, 388.0, 322.0, 252.0, 179.0, 187.0, 209.0,\n",
    "                194.0, 199.0, 206.0, 170.0, 179.0, 184.0, 279.0, 256.0, 254.0, 246.0, 198.0, 255.0, 236.0, 216.0,\n",
    "                218.0, 233.0, 304.0, 286.0, 264.0, 279.0, 331.0, 333.0, 294.0, 257.0, 356.0, 281.0]\n",
    "\n",
    "\n",
    "\n"
   ]
  },
  {
   "cell_type": "code",
   "execution_count": 43,
   "id": "d48d2c3d",
   "metadata": {},
   "outputs": [
    {
     "data": {
      "text/plain": [
       "20    382.0\n",
       "21    359.0\n",
       "22    377.0\n",
       "23    405.0\n",
       "24    437.0\n",
       "25    330.0\n",
       "26    373.0\n",
       "27    356.0\n",
       "28    406.0\n",
       "29    374.0\n",
       "0     267.0\n",
       "1     190.0\n",
       "2     200.0\n",
       "3     225.0\n",
       "4     203.0\n",
       "5     208.0\n",
       "6     214.0\n",
       "7     187.0\n",
       "8     206.0\n",
       "9     193.0\n",
       "30    290.0\n",
       "31    266.0\n",
       "32    272.0\n",
       "33    258.0\n",
       "34    213.0\n",
       "35    272.0\n",
       "36    269.0\n",
       "37    234.0\n",
       "38    242.0\n",
       "39    255.0\n",
       "10    330.0\n",
       "11    291.0\n",
       "12    293.0\n",
       "13    312.0\n",
       "14    343.0\n",
       "15    348.0\n",
       "16    317.0\n",
       "17    282.0\n",
       "18    384.0\n",
       "19    314.0\n",
       "Name: OPT, dtype: float64"
      ]
     },
     "execution_count": 43,
     "metadata": {},
     "output_type": "execute_result"
    }
   ],
   "source": [
    "data['OPT']"
   ]
  },
  {
   "cell_type": "code",
   "execution_count": 41,
   "id": "dd536b23",
   "metadata": {},
   "outputs": [
    {
     "data": {
      "text/plain": [
       "0.9216273212521102"
      ]
     },
     "execution_count": 41,
     "metadata": {},
     "output_type": "execute_result"
    }
   ],
   "source": [
    "(run_csp_cuts/data['OPT']).mean()"
   ]
  },
  {
   "cell_type": "code",
   "execution_count": 42,
   "id": "5b45005f",
   "metadata": {},
   "outputs": [
    {
     "data": {
      "text/plain": [
       "20    0.787958\n",
       "21    0.896936\n",
       "22    0.968170\n",
       "23    0.760494\n",
       "24    0.958810\n",
       "25    0.936364\n",
       "26    0.908847\n",
       "27    0.898876\n",
       "28    0.955665\n",
       "29    0.860963\n",
       "0     0.943820\n",
       "1     0.942105\n",
       "2     0.935000\n",
       "3     0.928889\n",
       "4     0.955665\n",
       "5     0.956731\n",
       "6     0.962617\n",
       "7     0.909091\n",
       "8     0.868932\n",
       "9     0.953368\n",
       "30    0.962069\n",
       "31    0.962406\n",
       "32    0.933824\n",
       "33    0.953488\n",
       "34    0.929577\n",
       "35    0.937500\n",
       "36    0.877323\n",
       "37    0.923077\n",
       "38    0.900826\n",
       "39    0.913725\n",
       "10    0.921212\n",
       "11    0.982818\n",
       "12    0.901024\n",
       "13    0.894231\n",
       "14    0.965015\n",
       "15    0.956897\n",
       "16    0.927445\n",
       "17    0.911348\n",
       "18    0.927083\n",
       "19    0.894904\n",
       "Name: OPT, dtype: float64"
      ]
     },
     "execution_count": 42,
     "metadata": {},
     "output_type": "execute_result"
    }
   ],
   "source": [
    "run_csp_cuts/data['OPT']"
   ]
  },
  {
   "cell_type": "code",
   "execution_count": null,
   "id": "0a3389cb",
   "metadata": {},
   "outputs": [],
   "source": []
  }
 ],
 "metadata": {
  "kernelspec": {
   "display_name": "Python 3 (ipykernel)",
   "language": "python",
   "name": "python3"
  },
  "language_info": {
   "codemirror_mode": {
    "name": "ipython",
    "version": 3
   },
   "file_extension": ".py",
   "mimetype": "text/x-python",
   "name": "python",
   "nbconvert_exporter": "python",
   "pygments_lexer": "ipython3",
   "version": "3.10.12"
  }
 },
 "nbformat": 4,
 "nbformat_minor": 5
}
