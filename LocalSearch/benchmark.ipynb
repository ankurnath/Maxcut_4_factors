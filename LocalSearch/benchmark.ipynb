{
 "cells": [
  {
   "cell_type": "code",
   "execution_count": 26,
   "metadata": {},
   "outputs": [],
   "source": [
    "from thop import profile\n",
    "import networkx as nx\n",
    "import torch\n",
    "from torch_geometric.data import Data\n",
    "from torch_geometric.utils import dense_to_sparse\n",
    "from torch_geometric.data import Batch"
   ]
  },
  {
   "cell_type": "code",
   "execution_count": 17,
   "metadata": {},
   "outputs": [],
   "source": [
    "from torch_geometric.utils.convert import to_networkx, from_networkx"
   ]
  },
  {
   "cell_type": "code",
   "execution_count": 18,
   "metadata": {},
   "outputs": [],
   "source": [
    "from src.envs.utils import (GraphDataset,\n",
    "                            RewardSignal, ExtraAction,\n",
    "                            OptimisationTarget, SpinBasis,\n",
    "                            DEFAULT_OBSERVABLES,\n",
    "                            Observable)"
   ]
  },
  {
   "cell_type": "code",
   "execution_count": 19,
   "metadata": {},
   "outputs": [],
   "source": []
  },
  {
   "cell_type": "code",
   "execution_count": 15,
   "metadata": {},
   "outputs": [],
   "source": [
    "nx_graph=nx.from_numpy_array(data.get()) \n",
    "torch_graph=from_networkx(nx_graph)"
   ]
  },
  {
   "cell_type": "code",
   "execution_count": 22,
   "metadata": {},
   "outputs": [
    {
     "data": {
      "text/plain": [
       "Data(edge_index=[2, 39980], weight=[39980], num_nodes=2000, x=[2000, 1])"
      ]
     },
     "execution_count": 22,
     "metadata": {},
     "output_type": "execute_result"
    }
   ],
   "source": [
    "torch_graph"
   ]
  },
  {
   "cell_type": "code",
   "execution_count": 30,
   "metadata": {},
   "outputs": [],
   "source": [
    "dataset=GraphDataset('../data/testing/rnd_graph_2000vertices_weighted/')\n",
    "matrix = dataset.get()\n",
    "\n",
    "\n",
    "edge_indices, edge_attr=dense_to_sparse(torch.from_numpy(matrix))\n",
    "edge_attr=edge_attr.unsqueeze(-1).type(torch.float)\n",
    "S2V_data=Data(x=torch.ones((2000,1)),edge_index=edge_indices,edge_attr=edge_attr)\n",
    "LSDQN_data=Data(x=torch.ones((2000,1)),edge_index=edge_indices,edge_attr=edge_attr)\n",
    "ECODQN_data=Data(x=torch.ones((2000,7)),edge_index=edge_indices,edge_attr=edge_attr)"
   ]
  },
  {
   "cell_type": "code",
   "execution_count": 9,
   "metadata": {},
   "outputs": [],
   "source": [
    "from src.networks.models import MPNN"
   ]
  },
  {
   "cell_type": "code",
   "execution_count": 10,
   "metadata": {},
   "outputs": [],
   "source": [
    "from torch_geometric.data import Data"
   ]
  },
  {
   "cell_type": "code",
   "execution_count": 31,
   "metadata": {},
   "outputs": [],
   "source": [
    "S2V = MPNN(dim_in=1,dim_embedding=64,num_layers=3)\n",
    "LSDQN = MPNN(dim_in=1,dim_embedding=64,num_layers=3)\n",
    "ECO_DQN = MPNN(dim_in=7,dim_embedding=64,num_layers=3)"
   ]
  },
  {
   "cell_type": "code",
   "execution_count": 32,
   "metadata": {},
   "outputs": [
    {
     "name": "stdout",
     "output_type": "stream",
     "text": [
      "[INFO] Register count_linear() for <class 'torch.nn.modules.linear.Linear'>.\n",
      "[INFO] Register zero_ops() for <class 'torch.nn.modules.activation.ReLU'>.\n",
      "[INFO] Register zero_ops() for <class 'torch.nn.modules.container.Sequential'>.\n"
     ]
    },
    {
     "data": {
      "text/plain": [
       "(111921576.0, 57663.0)"
      ]
     },
     "execution_count": 32,
     "metadata": {},
     "output_type": "execute_result"
    }
   ],
   "source": [
    "profile(S2V, inputs=(Batch.from_data_list([S2V_data], follow_batch=None, exclude_keys=None), ))"
   ]
  },
  {
   "cell_type": "code",
   "execution_count": 33,
   "metadata": {},
   "outputs": [
    {
     "name": "stdout",
     "output_type": "stream",
     "text": [
      "[INFO] Register count_linear() for <class 'torch.nn.modules.linear.Linear'>.\n",
      "[INFO] Register zero_ops() for <class 'torch.nn.modules.activation.ReLU'>.\n",
      "[INFO] Register zero_ops() for <class 'torch.nn.modules.container.Sequential'>.\n"
     ]
    },
    {
     "data": {
      "text/plain": [
       "(111921576.0, 57663.0)"
      ]
     },
     "execution_count": 33,
     "metadata": {},
     "output_type": "execute_result"
    }
   ],
   "source": [
    "profile(LSDQN, inputs=(Batch.from_data_list([LSDQN_data], follow_batch=None, exclude_keys=None), ))"
   ]
  },
  {
   "cell_type": "code",
   "execution_count": 34,
   "metadata": {},
   "outputs": [
    {
     "name": "stdout",
     "output_type": "stream",
     "text": [
      "[INFO] Register count_linear() for <class 'torch.nn.modules.linear.Linear'>.\n",
      "[INFO] Register zero_ops() for <class 'torch.nn.modules.activation.ReLU'>.\n",
      "[INFO] Register zero_ops() for <class 'torch.nn.modules.container.Sequential'>.\n"
     ]
    },
    {
     "data": {
      "text/plain": [
       "(127802016.0, 58425.0)"
      ]
     },
     "execution_count": 34,
     "metadata": {},
     "output_type": "execute_result"
    }
   ],
   "source": [
    "profile(ECO_DQN, inputs=(Batch.from_data_list([ECODQN_data], follow_batch=None, exclude_keys=None), ))"
   ]
  }
 ],
 "metadata": {
  "kernelspec": {
   "display_name": "eco_dqn",
   "language": "python",
   "name": "python3"
  },
  "language_info": {
   "codemirror_mode": {
    "name": "ipython",
    "version": 3
   },
   "file_extension": ".py",
   "mimetype": "text/x-python",
   "name": "python",
   "nbconvert_exporter": "python",
   "pygments_lexer": "ipython3",
   "version": "3.10.12"
  }
 },
 "nbformat": 4,
 "nbformat_minor": 2
}
