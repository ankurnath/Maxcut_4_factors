{
 "cells": [
  {
   "cell_type": "code",
   "execution_count": 1,
   "metadata": {},
   "outputs": [],
   "source": [
    "import pandas as pd"
   ]
  },
  {
   "cell_type": "code",
   "execution_count": 2,
   "metadata": {},
   "outputs": [],
   "source": [
    "data=pd.read_csv('gpu_log.csv')"
   ]
  },
  {
   "cell_type": "code",
   "execution_count": 9,
   "metadata": {},
   "outputs": [
    {
     "data": {
      "text/plain": [
       "0                                                python\n",
       "1      /home/grads/a/anath/anaconda3/envs/ecord/bin/...\n",
       "2                                                python\n",
       "3      /home/grads/a/anath/anaconda3/envs/ecord/bin/...\n",
       "4                                                python\n",
       "5      /home/grads/a/anath/anaconda3/envs/ecord/bin/...\n",
       "6                                                python\n",
       "7      /home/grads/a/anath/anaconda3/envs/ecord/bin/...\n",
       "8                                                python\n",
       "9      /home/grads/a/anath/anaconda3/envs/ecord/bin/...\n",
       "10                                               python\n",
       "11     /home/grads/a/anath/anaconda3/envs/ecord/bin/...\n",
       "12                                               python\n",
       "13     /home/grads/a/anath/anaconda3/envs/ecord/bin/...\n",
       "14                                               python\n",
       "15     /home/grads/a/anath/anaconda3/envs/ecord/bin/...\n",
       "16                                               python\n",
       "17     /home/grads/a/anath/anaconda3/envs/ecord/bin/...\n",
       "18                                               python\n",
       "19     /home/grads/a/anath/anaconda3/envs/ecord/bin/...\n",
       "20                                               python\n",
       "21     /home/grads/a/anath/anaconda3/envs/ecord/bin/...\n",
       "22                                               python\n",
       "23     /home/grads/a/anath/anaconda3/envs/ecord/bin/...\n",
       "Name:  process_name, dtype: object"
      ]
     },
     "execution_count": 9,
     "metadata": {},
     "output_type": "execute_result"
    }
   ],
   "source": [
    "data[' process_name']"
   ]
  },
  {
   "cell_type": "code",
   "execution_count": 10,
   "metadata": {},
   "outputs": [
    {
     "name": "stdout",
     "output_type": "stream",
     "text": [
      " /home/grads/a/anath/anaconda3/envs/ecord/bin/python\n",
      " python\n"
     ]
    }
   ],
   "source": [
    "for process_name,group_df in data.groupby(' process_name'):\n",
    "    print(process_name)"
   ]
  },
  {
   "cell_type": "code",
   "execution_count": 7,
   "metadata": {},
   "outputs": [
    {
     "data": {
      "text/plain": [
       "Index(['pid', ' process_name', ' used_gpu_memory [MiB]'], dtype='object')"
      ]
     },
     "execution_count": 7,
     "metadata": {},
     "output_type": "execute_result"
    }
   ],
   "source": [
    "data.columns"
   ]
  },
  {
   "cell_type": "code",
   "execution_count": null,
   "metadata": {},
   "outputs": [],
   "source": []
  }
 ],
 "metadata": {
  "kernelspec": {
   "display_name": "benchenv",
   "language": "python",
   "name": "python3"
  },
  "language_info": {
   "codemirror_mode": {
    "name": "ipython",
    "version": 3
   },
   "file_extension": ".py",
   "mimetype": "text/x-python",
   "name": "python",
   "nbconvert_exporter": "python",
   "pygments_lexer": "ipython3",
   "version": "3.10.12"
  }
 },
 "nbformat": 4,
 "nbformat_minor": 2
}
