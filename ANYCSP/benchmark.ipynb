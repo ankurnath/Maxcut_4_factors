{
 "cells": [
  {
   "cell_type": "code",
   "execution_count": 1,
   "metadata": {},
   "outputs": [],
   "source": [
    "import torch\n",
    "import numpy as np\n",
    "from argparse import ArgumentParser\n",
    "\n",
    "from src.csp.csp_data import CSP_Data\n",
    "from src.model.model import ANYCSP\n",
    "from src.data.dataset import File_Dataset\n",
    "from collections import defaultdict\n",
    "import pandas as pd\n",
    "import os\n",
    "\n",
    "from thop import profile\n"
   ]
  },
  {
   "cell_type": "code",
   "execution_count": 2,
   "metadata": {},
   "outputs": [],
   "source": [
    "from src.data.dataset import File_Dataset"
   ]
  },
  {
   "cell_type": "code",
   "execution_count": 3,
   "metadata": {},
   "outputs": [
    {
     "data": {
      "text/plain": [
       "ANYCSP(\n",
       "  (val_cell): GRUCell(128, 128)\n",
       "  (val2cst): Val2Cst_Layer(\n",
       "    (val_enc): Sequential(\n",
       "      (0): Linear(in_features=129, out_features=128, bias=True)\n",
       "      (1): ReLU()\n",
       "      (2): Linear(in_features=128, out_features=128, bias=False)\n",
       "      (3): LayerNorm((128,), eps=1e-05, elementwise_affine=True)\n",
       "    )\n",
       "    (val_send): Sequential(\n",
       "      (0): Linear(in_features=128, out_features=256, bias=False)\n",
       "      (1): LayerNorm((256,), eps=1e-05, elementwise_affine=True)\n",
       "    )\n",
       "  )\n",
       "  (cst2val): Cst2Val_Layer(\n",
       "    (cst_send): Sequential(\n",
       "      (0): Linear(in_features=128, out_features=128, bias=True)\n",
       "      (1): ReLU()\n",
       "      (2): Linear(in_features=128, out_features=256, bias=False)\n",
       "      (3): LayerNorm((256,), eps=1e-05, elementwise_affine=True)\n",
       "    )\n",
       "    (val_rec): Sequential(\n",
       "      (0): Linear(in_features=128, out_features=128, bias=True)\n",
       "      (1): ReLU()\n",
       "      (2): Linear(in_features=128, out_features=128, bias=False)\n",
       "      (3): LayerNorm((128,), eps=1e-05, elementwise_affine=True)\n",
       "    )\n",
       "  )\n",
       "  (val2val): Val2Val_Layer(\n",
       "    (var_enc): Sequential(\n",
       "      (0): Linear(in_features=128, out_features=128, bias=True)\n",
       "      (1): ReLU()\n",
       "      (2): Linear(in_features=128, out_features=128, bias=False)\n",
       "      (3): LayerNorm((128,), eps=1e-05, elementwise_affine=True)\n",
       "    )\n",
       "  )\n",
       "  (policy): Policy(\n",
       "    (mlp): Sequential(\n",
       "      (0): LayerNorm((128,), eps=1e-05, elementwise_affine=True)\n",
       "      (1): Linear(in_features=128, out_features=128, bias=True)\n",
       "      (2): ReLU()\n",
       "      (3): Linear(in_features=128, out_features=1, bias=False)\n",
       "    )\n",
       "  )\n",
       ")"
      ]
     },
     "execution_count": 3,
     "metadata": {},
     "output_type": "execute_result"
    }
   ],
   "source": [
    "model_dir=f'pretrained agents/rnd_graph_800vertices_weighted'\n",
    "# device = torch.device('cuda:0' if torch.cuda.is_available() else 'cpu')\n",
    "device = 'cuda' if torch.cuda.is_available() else 'cpu'\n",
    "\n",
    "model = ANYCSP.load_model(model_dir,'best')\n",
    "model.eval()\n",
    "model.to(device)"
   ]
  },
  {
   "cell_type": "code",
   "execution_count": 7,
   "metadata": {},
   "outputs": [
    {
     "name": "stdout",
     "output_type": "stream",
     "text": [
      "../data/testing/rnd_graph_2000vertices_weighted/G27.npz\n",
      "<class 'src.csp.csp_data.CSP_Data'>\n",
      "<class 'src.csp.csp_data.CSP_Data'>\n",
      "[INFO] Register count_gru_cell() for <class 'torch.nn.modules.rnn.GRUCell'>.\n",
      "[INFO] Register count_linear() for <class 'torch.nn.modules.linear.Linear'>.\n",
      "[INFO] Register zero_ops() for <class 'torch.nn.modules.activation.ReLU'>.\n",
      "[INFO] Register count_normalization() for <class 'torch.nn.modules.normalization.LayerNorm'>.\n",
      "[INFO] Register zero_ops() for <class 'torch.nn.modules.container.Sequential'>.\n",
      "(1939466240.0, 298624.0)\n"
     ]
    }
   ],
   "source": [
    "import torch\n",
    "datapath=f'../data/testing/rnd_graph_2000vertices_weighted'\n",
    "dataset = File_Dataset(datapath)\n",
    "for data in dataset:\n",
    "    file = data.path\n",
    "    print(file)\n",
    "    print(type(data))\n",
    "\n",
    "    # Move data to the specified device\n",
    "    data.to(device)\n",
    "    data.init_adj()\n",
    "    print(type(data))\n",
    "\n",
    "    with torch.inference_mode():\n",
    "\n",
    "\n",
    "        # Ensure the model is profiled correctly\n",
    "        print(profile(model, inputs=(data, )))\n",
    "\n",
    "\n",
    "        \n",
    "\n",
    "    # Break after the first iteration (if intended)\n",
    "    break\n"
   ]
  }
 ],
 "metadata": {
  "kernelspec": {
   "display_name": "eco_dqn",
   "language": "python",
   "name": "python3"
  },
  "language_info": {
   "codemirror_mode": {
    "name": "ipython",
    "version": 3
   },
   "file_extension": ".py",
   "mimetype": "text/x-python",
   "name": "python",
   "nbconvert_exporter": "python",
   "pygments_lexer": "ipython3",
   "version": "3.10.12"
  }
 },
 "nbformat": 4,
 "nbformat_minor": 2
}
